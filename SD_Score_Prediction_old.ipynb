{
 "cells": [
  {
   "cell_type": "markdown",
   "source": [
    "# Analysis of SD Score & Prediction of Forward Looking Scores\n",
    "\n",
    "This notebook will focus on analying the SD Score for stablecoins and not-stablecoin pools.\n",
    "The notebook will import both data sets, analyze and visualize the data.\n",
    "The analysis will include: \n",
    "\n",
    "1. Describing the data\n",
    "2. Visualizing the data\n",
    "3. Correlation analysis and matrix\n",
    "4. Transformation of variables if needed\n",
    "\n",
    "From the analysis we will determine if SD score is a potential predictor of forward looking scores and DeFi yields.\n",
    "\n",
    "The predicition models used will include:\n",
    "\n",
    "1. Linear Regression\n",
    "2. Random Forest\n",
    "3. Gradient Boosting"
   ],
   "metadata": {
    "collapsed": false
   },
   "id": "2e365d95fc084fe6"
  },
  {
   "cell_type": "code",
   "outputs": [],
   "source": [
    "# Importing Libraries\n",
    "import pandas as pd\n",
    "import numpy as np\n",
    "import matplotlib.pyplot as plt \n",
    "import seaborn as sns\n",
    "\n"
   ],
   "metadata": {
    "collapsed": false,
    "ExecuteTime": {
     "end_time": "2024-02-23T09:52:26.447145Z",
     "start_time": "2024-02-23T09:52:26.444448Z"
    }
   },
   "id": "4bcc87b74a8feaad",
   "execution_count": 21
  },
  {
   "cell_type": "code",
   "outputs": [],
   "source": [
    "# Importing Data\n",
    "filepath_stables = '/Users/karolk/Python_Work/ML_Price/Datasets/DeFi_Quant_Data_stables.csv'\n",
    "filepath_not_stables = '/Users/karolk/Python_Work/ML_Price/Datasets/DeFi_Quant_Data_n_stables.csv'\n",
    "filepath_prices = '/Users/karolk/Python_Work/ML_Price/Datasets/asset_prices.csv'\n",
    "\n",
    "stables = pd.read_csv(filepath_stables)\n",
    "not_stables = pd.read_csv(filepath_not_stables)\n",
    "prices = pd.read_csv(filepath_prices)"
   ],
   "metadata": {
    "collapsed": false,
    "ExecuteTime": {
     "end_time": "2024-02-23T09:52:27.797969Z",
     "start_time": "2024-02-23T09:52:26.449300Z"
    }
   },
   "id": "7f402bd09b28d2cd",
   "execution_count": 22
  },
  {
   "cell_type": "code",
   "outputs": [
    {
     "data": {
      "text/plain": "      chain project    symbol     tvlUsd       apy  \\\n0  Ethereum   merkl  GHO-USDT  2172112.0  15.85675   \n1  Ethereum   merkl  GHO-USDT  2170674.0  15.83543   \n2  Ethereum   merkl  GHO-USDT  2187678.0  15.70240   \n3  Ethereum   merkl  GHO-USDT  2190395.0  15.73245   \n4  Ethereum   merkl  GHO-USDT  2190395.0  15.73245   \n\n                                   pool  stablecoin ilRisk exposure  outlier  \\\n0  00196622-42f0-461e-afa6-8887506876e6        True     no    multi    False   \n1  00196622-42f0-461e-afa6-8887506876e6        True     no    multi    False   \n2  00196622-42f0-461e-afa6-8887506876e6        True     no    multi    False   \n3  00196622-42f0-461e-afa6-8887506876e6        True     no    multi    False   \n4  00196622-42f0-461e-afa6-8887506876e6        True     no    multi    False   \n\n   ...  tvlChange1d   SD_Score SD_Score_7D_avg  SD_Score_7D_std  \\\n0  ...     0.090731  65.020294       65.982986         0.941077   \n1  ...    -0.066203  64.773325       65.620267         0.825514   \n2  ...     0.783351  65.737994       65.523312         0.753064   \n3  ...     0.124196  66.022536       65.425676         0.603655   \n4  ...     0.000000  66.171875       65.426035         0.604172   \n\n   SD_Score_7D_forward  token_id_1  token_id_2  token_id_3  token_id_4  \\\n0            64.954019         GHO        USDT         NaN         NaN   \n1            64.726852         GHO        USDT         NaN         NaN   \n2            64.314827         GHO        USDT         NaN         NaN   \n3            63.868409         GHO        USDT         NaN         NaN   \n4            63.473553         GHO        USDT         NaN         NaN   \n\n   num_tokens  \n0           2  \n1           2  \n2           2  \n3           2  \n4           2  \n\n[5 rows x 33 columns]",
      "text/html": "<div>\n<style scoped>\n    .dataframe tbody tr th:only-of-type {\n        vertical-align: middle;\n    }\n\n    .dataframe tbody tr th {\n        vertical-align: top;\n    }\n\n    .dataframe thead th {\n        text-align: right;\n    }\n</style>\n<table border=\"1\" class=\"dataframe\">\n  <thead>\n    <tr style=\"text-align: right;\">\n      <th></th>\n      <th>chain</th>\n      <th>project</th>\n      <th>symbol</th>\n      <th>tvlUsd</th>\n      <th>apy</th>\n      <th>pool</th>\n      <th>stablecoin</th>\n      <th>ilRisk</th>\n      <th>exposure</th>\n      <th>outlier</th>\n      <th>...</th>\n      <th>tvlChange1d</th>\n      <th>SD_Score</th>\n      <th>SD_Score_7D_avg</th>\n      <th>SD_Score_7D_std</th>\n      <th>SD_Score_7D_forward</th>\n      <th>token_id_1</th>\n      <th>token_id_2</th>\n      <th>token_id_3</th>\n      <th>token_id_4</th>\n      <th>num_tokens</th>\n    </tr>\n  </thead>\n  <tbody>\n    <tr>\n      <th>0</th>\n      <td>Ethereum</td>\n      <td>merkl</td>\n      <td>GHO-USDT</td>\n      <td>2172112.0</td>\n      <td>15.85675</td>\n      <td>00196622-42f0-461e-afa6-8887506876e6</td>\n      <td>True</td>\n      <td>no</td>\n      <td>multi</td>\n      <td>False</td>\n      <td>...</td>\n      <td>0.090731</td>\n      <td>65.020294</td>\n      <td>65.982986</td>\n      <td>0.941077</td>\n      <td>64.954019</td>\n      <td>GHO</td>\n      <td>USDT</td>\n      <td>NaN</td>\n      <td>NaN</td>\n      <td>2</td>\n    </tr>\n    <tr>\n      <th>1</th>\n      <td>Ethereum</td>\n      <td>merkl</td>\n      <td>GHO-USDT</td>\n      <td>2170674.0</td>\n      <td>15.83543</td>\n      <td>00196622-42f0-461e-afa6-8887506876e6</td>\n      <td>True</td>\n      <td>no</td>\n      <td>multi</td>\n      <td>False</td>\n      <td>...</td>\n      <td>-0.066203</td>\n      <td>64.773325</td>\n      <td>65.620267</td>\n      <td>0.825514</td>\n      <td>64.726852</td>\n      <td>GHO</td>\n      <td>USDT</td>\n      <td>NaN</td>\n      <td>NaN</td>\n      <td>2</td>\n    </tr>\n    <tr>\n      <th>2</th>\n      <td>Ethereum</td>\n      <td>merkl</td>\n      <td>GHO-USDT</td>\n      <td>2187678.0</td>\n      <td>15.70240</td>\n      <td>00196622-42f0-461e-afa6-8887506876e6</td>\n      <td>True</td>\n      <td>no</td>\n      <td>multi</td>\n      <td>False</td>\n      <td>...</td>\n      <td>0.783351</td>\n      <td>65.737994</td>\n      <td>65.523312</td>\n      <td>0.753064</td>\n      <td>64.314827</td>\n      <td>GHO</td>\n      <td>USDT</td>\n      <td>NaN</td>\n      <td>NaN</td>\n      <td>2</td>\n    </tr>\n    <tr>\n      <th>3</th>\n      <td>Ethereum</td>\n      <td>merkl</td>\n      <td>GHO-USDT</td>\n      <td>2190395.0</td>\n      <td>15.73245</td>\n      <td>00196622-42f0-461e-afa6-8887506876e6</td>\n      <td>True</td>\n      <td>no</td>\n      <td>multi</td>\n      <td>False</td>\n      <td>...</td>\n      <td>0.124196</td>\n      <td>66.022536</td>\n      <td>65.425676</td>\n      <td>0.603655</td>\n      <td>63.868409</td>\n      <td>GHO</td>\n      <td>USDT</td>\n      <td>NaN</td>\n      <td>NaN</td>\n      <td>2</td>\n    </tr>\n    <tr>\n      <th>4</th>\n      <td>Ethereum</td>\n      <td>merkl</td>\n      <td>GHO-USDT</td>\n      <td>2190395.0</td>\n      <td>15.73245</td>\n      <td>00196622-42f0-461e-afa6-8887506876e6</td>\n      <td>True</td>\n      <td>no</td>\n      <td>multi</td>\n      <td>False</td>\n      <td>...</td>\n      <td>0.000000</td>\n      <td>66.171875</td>\n      <td>65.426035</td>\n      <td>0.604172</td>\n      <td>63.473553</td>\n      <td>GHO</td>\n      <td>USDT</td>\n      <td>NaN</td>\n      <td>NaN</td>\n      <td>2</td>\n    </tr>\n  </tbody>\n</table>\n<p>5 rows × 33 columns</p>\n</div>"
     },
     "execution_count": 23,
     "metadata": {},
     "output_type": "execute_result"
    }
   ],
   "source": [
    "# getting head of stables\n",
    "stables.head()"
   ],
   "metadata": {
    "collapsed": false,
    "ExecuteTime": {
     "end_time": "2024-02-23T09:52:27.822190Z",
     "start_time": "2024-02-23T09:52:27.799909Z"
    }
   },
   "id": "d9382012a866d86f",
   "execution_count": 23
  },
  {
   "cell_type": "code",
   "outputs": [
    {
     "data": {
      "text/plain": "  chain     project    symbol    tvlUsd      apy  \\\n0  Base  uniswap-v3  ISK-WETH  113970.0  2.84529   \n1  Base  uniswap-v3  ISK-WETH  113706.0  0.58260   \n2  Base  uniswap-v3  ISK-WETH  112150.0  1.65160   \n3  Base  uniswap-v3  ISK-WETH  114564.0  1.54926   \n4  Base  uniswap-v3  ISK-WETH  117558.0  1.51888   \n\n                                   pool  stablecoin ilRisk exposure  outlier  \\\n0  0005d7bf-1f14-4c74-92cd-857c9931053e       False    yes    multi    False   \n1  0005d7bf-1f14-4c74-92cd-857c9931053e       False    yes    multi    False   \n2  0005d7bf-1f14-4c74-92cd-857c9931053e       False    yes    multi    False   \n3  0005d7bf-1f14-4c74-92cd-857c9931053e       False    yes    multi    False   \n4  0005d7bf-1f14-4c74-92cd-857c9931053e       False    yes    multi    False   \n\n   ...  tvlChange1d   SD_Score SD_Score_7D_avg  SD_Score_7D_std  \\\n0  ...    -0.436796  12.634695       11.237825         1.015088   \n1  ...    -0.231640  12.676294       11.545415         1.086171   \n2  ...    -1.368441  12.774360       11.876214         1.052148   \n3  ...     2.152474  12.522667       12.244316         0.630556   \n4  ...     2.613386  11.492723       12.263053         0.601219   \n\n   SD_Score_7D_forward  token_id_1  token_id_2  token_id_3  token_id_4  \\\n0            12.028860         ISK        WETH         NaN         NaN   \n1            12.115925         ISK        WETH         NaN         NaN   \n2            12.421818         ISK        WETH         NaN         NaN   \n3            12.851304         ISK        WETH         NaN         NaN   \n4            13.639087         ISK        WETH         NaN         NaN   \n\n   num_tokens  \n0           2  \n1           2  \n2           2  \n3           2  \n4           2  \n\n[5 rows x 33 columns]",
      "text/html": "<div>\n<style scoped>\n    .dataframe tbody tr th:only-of-type {\n        vertical-align: middle;\n    }\n\n    .dataframe tbody tr th {\n        vertical-align: top;\n    }\n\n    .dataframe thead th {\n        text-align: right;\n    }\n</style>\n<table border=\"1\" class=\"dataframe\">\n  <thead>\n    <tr style=\"text-align: right;\">\n      <th></th>\n      <th>chain</th>\n      <th>project</th>\n      <th>symbol</th>\n      <th>tvlUsd</th>\n      <th>apy</th>\n      <th>pool</th>\n      <th>stablecoin</th>\n      <th>ilRisk</th>\n      <th>exposure</th>\n      <th>outlier</th>\n      <th>...</th>\n      <th>tvlChange1d</th>\n      <th>SD_Score</th>\n      <th>SD_Score_7D_avg</th>\n      <th>SD_Score_7D_std</th>\n      <th>SD_Score_7D_forward</th>\n      <th>token_id_1</th>\n      <th>token_id_2</th>\n      <th>token_id_3</th>\n      <th>token_id_4</th>\n      <th>num_tokens</th>\n    </tr>\n  </thead>\n  <tbody>\n    <tr>\n      <th>0</th>\n      <td>Base</td>\n      <td>uniswap-v3</td>\n      <td>ISK-WETH</td>\n      <td>113970.0</td>\n      <td>2.84529</td>\n      <td>0005d7bf-1f14-4c74-92cd-857c9931053e</td>\n      <td>False</td>\n      <td>yes</td>\n      <td>multi</td>\n      <td>False</td>\n      <td>...</td>\n      <td>-0.436796</td>\n      <td>12.634695</td>\n      <td>11.237825</td>\n      <td>1.015088</td>\n      <td>12.028860</td>\n      <td>ISK</td>\n      <td>WETH</td>\n      <td>NaN</td>\n      <td>NaN</td>\n      <td>2</td>\n    </tr>\n    <tr>\n      <th>1</th>\n      <td>Base</td>\n      <td>uniswap-v3</td>\n      <td>ISK-WETH</td>\n      <td>113706.0</td>\n      <td>0.58260</td>\n      <td>0005d7bf-1f14-4c74-92cd-857c9931053e</td>\n      <td>False</td>\n      <td>yes</td>\n      <td>multi</td>\n      <td>False</td>\n      <td>...</td>\n      <td>-0.231640</td>\n      <td>12.676294</td>\n      <td>11.545415</td>\n      <td>1.086171</td>\n      <td>12.115925</td>\n      <td>ISK</td>\n      <td>WETH</td>\n      <td>NaN</td>\n      <td>NaN</td>\n      <td>2</td>\n    </tr>\n    <tr>\n      <th>2</th>\n      <td>Base</td>\n      <td>uniswap-v3</td>\n      <td>ISK-WETH</td>\n      <td>112150.0</td>\n      <td>1.65160</td>\n      <td>0005d7bf-1f14-4c74-92cd-857c9931053e</td>\n      <td>False</td>\n      <td>yes</td>\n      <td>multi</td>\n      <td>False</td>\n      <td>...</td>\n      <td>-1.368441</td>\n      <td>12.774360</td>\n      <td>11.876214</td>\n      <td>1.052148</td>\n      <td>12.421818</td>\n      <td>ISK</td>\n      <td>WETH</td>\n      <td>NaN</td>\n      <td>NaN</td>\n      <td>2</td>\n    </tr>\n    <tr>\n      <th>3</th>\n      <td>Base</td>\n      <td>uniswap-v3</td>\n      <td>ISK-WETH</td>\n      <td>114564.0</td>\n      <td>1.54926</td>\n      <td>0005d7bf-1f14-4c74-92cd-857c9931053e</td>\n      <td>False</td>\n      <td>yes</td>\n      <td>multi</td>\n      <td>False</td>\n      <td>...</td>\n      <td>2.152474</td>\n      <td>12.522667</td>\n      <td>12.244316</td>\n      <td>0.630556</td>\n      <td>12.851304</td>\n      <td>ISK</td>\n      <td>WETH</td>\n      <td>NaN</td>\n      <td>NaN</td>\n      <td>2</td>\n    </tr>\n    <tr>\n      <th>4</th>\n      <td>Base</td>\n      <td>uniswap-v3</td>\n      <td>ISK-WETH</td>\n      <td>117558.0</td>\n      <td>1.51888</td>\n      <td>0005d7bf-1f14-4c74-92cd-857c9931053e</td>\n      <td>False</td>\n      <td>yes</td>\n      <td>multi</td>\n      <td>False</td>\n      <td>...</td>\n      <td>2.613386</td>\n      <td>11.492723</td>\n      <td>12.263053</td>\n      <td>0.601219</td>\n      <td>13.639087</td>\n      <td>ISK</td>\n      <td>WETH</td>\n      <td>NaN</td>\n      <td>NaN</td>\n      <td>2</td>\n    </tr>\n  </tbody>\n</table>\n<p>5 rows × 33 columns</p>\n</div>"
     },
     "execution_count": 24,
     "metadata": {},
     "output_type": "execute_result"
    }
   ],
   "source": [
    "# getting head of not_stables\n",
    "not_stables.head()"
   ],
   "metadata": {
    "collapsed": false,
    "ExecuteTime": {
     "end_time": "2024-02-23T09:52:27.837680Z",
     "start_time": "2024-02-23T09:52:27.824041Z"
    }
   },
   "id": "aaefd6a53931ae5c",
   "execution_count": 24
  },
  {
   "cell_type": "code",
   "outputs": [],
   "source": [
    "# creating date column for the prices data\n",
    "# Remove the 'Z' at the end of the string in the 'createdAt' column (if it exists)\n",
    "prices['date_created'] = prices['date_created'].str.replace('Z', '')\n",
    "\n",
    "# convert the 'date_created' column to datetime\n",
    "prices['date_created'] = pd.to_datetime(prices['date_created'], format='ISO8601')\n",
    "\n",
    "# create date column in the format of 'YYYY-MM-DD'\n",
    "prices['date'] = prices['date_created'].dt.date\n",
    "\n",
    "# drop the 'date_created' column\n",
    "prices = prices.drop(columns=['date_created'])"
   ],
   "metadata": {
    "collapsed": false,
    "ExecuteTime": {
     "end_time": "2024-02-23T09:52:27.880236Z",
     "start_time": "2024-02-23T09:52:27.839492Z"
    }
   },
   "id": "577a35600d4f0a7c",
   "execution_count": 25
  },
  {
   "cell_type": "code",
   "outputs": [
    {
     "data": {
      "text/plain": "Index(['date', 'agoric', 'akash', 'aleph-zero', 'aptos', 'archway',\n       'asset-mantle', 'audius', 'aura-network', 'avalanche', 'axelar',\n       'band-protocol', 'binance-smart-chain', 'cardano', 'casper-network',\n       'celestia', 'celo', 'comdex', 'cosmos', 'crypto-com-coin', 'desmos',\n       'dydx', 'e-money', 'elrond', 'ethereum-2-0', 'evmos', 'fantom',\n       'fetch-ai', 'harmony', 'injective-protocol', 'irisnet', 'juno', 'kava',\n       'kusama', 'matic-network', 'mina', 'near-protocol', 'ontology', 'orbs',\n       'osmosis', 'persistence', 'polkadot', 'radix', 'regen',\n       'secret-network', 'sei-network', 'sentinel', 'sifchain', 'skale',\n       'solana', 'stafi-protocol', 'stargaze', 'sui', 'terra', 'terra-luna-2',\n       'tezos', 'the-graph', 'tron', 'umee', 'zilliqa'],\n      dtype='object', name='assetSlug')"
     },
     "execution_count": 26,
     "metadata": {},
     "output_type": "execute_result"
    }
   ],
   "source": [
    "# getting head of prices\n",
    "prices.head()\n",
    "\n",
    "# pivot the prices data for easier joining\n",
    "prices = prices.pivot(index='date', columns='assetSlug', values='price')\n",
    "\n",
    "# reset the index\n",
    "prices = prices.reset_index()\n",
    "\n",
    "# get all unique columns\n",
    "unique_columns = prices.columns\n",
    "unique_columns\n"
   ],
   "metadata": {
    "collapsed": false,
    "ExecuteTime": {
     "end_time": "2024-02-23T09:52:27.915208Z",
     "start_time": "2024-02-23T09:52:27.881400Z"
    }
   },
   "id": "e5286e0b50e75e8f",
   "execution_count": 26
  },
  {
   "cell_type": "code",
   "outputs": [],
   "source": [
    "# joining prices data to stables and not_stables matching on date\n",
    "stables = stables.merge(prices, how='left', left_on='date', right_on='date')\n",
    "not_stables = not_stables.merge(prices, how='left', left_on='date', right_on='date')"
   ],
   "metadata": {
    "collapsed": false,
    "ExecuteTime": {
     "end_time": "2024-02-23T09:52:28.260782Z",
     "start_time": "2024-02-23T09:52:27.916522Z"
    }
   },
   "id": "d4294dce01f26fcb",
   "execution_count": 27
  },
  {
   "cell_type": "code",
   "outputs": [],
   "source": [
    "# creating a list of uniqe columns\n",
    "columns = stables.columns\n",
    "\n",
    "columns_to_keep = ['chain', 'project', 'symbol', 'tvlUsd', 'apy', 'pool', 'stablecoin',\n",
    "                           'date', 'apyMean7d', 'apyStd7d',\n",
    "                          'apyMean7dForward', 'tvlPercentile', 'apy7DPercentile',\n",
    "                           'apy7DStdRatio', 'tvlChange7d', 'tvlChange1d',\n",
    "                          'SD_Score', 'SD_Score_7D_avg', 'SD_Score_7D_std', 'SD_Score_7D_forward',\n",
    "                          'token_id_1', 'token_id_2', 'token_id_3', 'token_id_4', 'num_tokens',\n",
    "                         'akash', 'aleph-zero', 'aptos',\n",
    "                          'archway', 'asset-mantle', 'audius', 'aura-network', 'avalanche',\n",
    "                          'axelar', 'band-protocol', 'binance-smart-chain', 'cardano',\n",
    "                          'casper-network', 'celestia', 'celo', 'comdex', 'cosmos',\n",
    "                          'crypto-com-coin', 'desmos', 'dydx', 'e-money', 'elrond',\n",
    "                          'ethereum-2-0', 'evmos', 'fantom', 'fetch-ai', 'harmony',\n",
    "                          'injective-protocol', 'irisnet', 'juno', 'kava', 'kusama',\n",
    "                          'matic-network', 'mina', 'near-protocol', 'ontology', 'orbs', 'osmosis',\n",
    "                          'persistence', 'polkadot', 'radix', 'regen', 'secret-network',\n",
    "                          'sei-network', 'sentinel', 'sifchain', 'skale', 'solana',\n",
    "                          'stafi-protocol', 'stargaze', 'sui', 'terra', 'terra-luna-2', 'tezos',\n",
    "                          'the-graph', 'tron', 'umee', 'zilliqa']\n",
    "\n"
   ],
   "metadata": {
    "collapsed": false,
    "ExecuteTime": {
     "end_time": "2024-02-23T09:52:28.270949Z",
     "start_time": "2024-02-23T09:52:28.263343Z"
    }
   },
   "id": "de8e8cc56bff4513",
   "execution_count": 28
  }
 ],
 "metadata": {
  "kernelspec": {
   "display_name": "Python 3",
   "language": "python",
   "name": "python3"
  },
  "language_info": {
   "codemirror_mode": {
    "name": "ipython",
    "version": 2
   },
   "file_extension": ".py",
   "mimetype": "text/x-python",
   "name": "python",
   "nbconvert_exporter": "python",
   "pygments_lexer": "ipython2",
   "version": "2.7.6"
  }
 },
 "nbformat": 4,
 "nbformat_minor": 5
}
