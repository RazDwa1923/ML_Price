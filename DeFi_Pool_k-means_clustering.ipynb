{
 "cells": [
  {
   "cell_type": "markdown",
   "source": [
    "***ML Algorithm to Cluster DeFi Pools***\n",
    "\n",
    "The aim of this script is to create an algorith pipeline to cluster DeFi pools.\n",
    "\n",
    "The script is divided in 4 parts:\n",
    "\n",
    "1. Data Collection and Processing: The data is colleceted from the DeFi Llama API. As a first step I will bring in the data. Additional new columns will need to be created such as the underlying token column, as well as creating the average APY over 7 and 30 days, the change in TVL over 7 and 30 days, standard deviation of APY over 7 and 30 days, and the standard deviation of TVL over 7 and 30 days.\n",
    "2. Data Exploration: The data will be explored to understand the distribution of the data, and to understand the correlation between the different variables.\n",
    "3. Machine Learning: The data will be clustered using K-Means clustering, hierarchical clustering, t-sne scatter plots . The optimal number of clusters will be determined using the elbow method.\n",
    "4. Data Visualization: The data will be visualized using a scatter plot.\n",
    "\n"
   ],
   "metadata": {
    "collapsed": false
   },
   "id": "1c2d6b81a5520d1f"
  },
  {
   "cell_type": "code",
   "execution_count": 2,
   "outputs": [],
   "source": [
    "# importing all required libraries\n",
    "import pandas as pd\n",
    "import numpy as np\n",
    "import matplotlib.pyplot as plt\n",
    "import seaborn as sns\n",
    "from sklearn.cluster import KMeans\n",
    "from scipy.cluster.hierarchy import dendrogram, linkage\n",
    "from sklearn.manifold import TSNE\n"
   ],
   "metadata": {
    "collapsed": false,
    "ExecuteTime": {
     "end_time": "2023-12-16T10:15:11.353837Z",
     "start_time": "2023-12-16T10:15:10.759468Z"
    }
   },
   "id": "dbea437adb4c1e95"
  },
  {
   "cell_type": "code",
   "execution_count": 6,
   "outputs": [
    {
     "data": {
      "text/plain": "            chain      project      symbol    tvlUsd      apy  \\\nid                                                              \n1046401    Fantom  beethoven-x    USDC-DAI   15398.0  0.01458   \n1034472    Fantom  beethoven-x    USDC-DAI   15398.0  0.01458   \n1022470    Fantom  beethoven-x    USDC-DAI   15398.0  0.01458   \n1010455    Fantom  beethoven-x    USDC-DAI   15398.0  0.01458   \n998361     Fantom  beethoven-x    USDC-DAI   15398.0  0.01458   \n...           ...          ...         ...       ...      ...   \n1559955  Ethereum   uniswap-v2  BLOCK-WETH  144867.0  0.00000   \n1548650  Ethereum   uniswap-v2  BLOCK-WETH  145480.0  0.00000   \n1537439  Ethereum   uniswap-v2  BLOCK-WETH  147687.0  0.00000   \n1526186  Ethereum   uniswap-v2  BLOCK-WETH  137764.0  0.00000   \n1515096  Ethereum   uniswap-v2  BLOCK-WETH  119132.0  0.00000   \n\n                                         pool  stablecoin ilRisk exposure  \\\nid                                                                          \n1046401  00025e37-595f-48dd-a050-05d84fb2ce9f        True     no    multi   \n1034472  00025e37-595f-48dd-a050-05d84fb2ce9f        True     no    multi   \n1022470  00025e37-595f-48dd-a050-05d84fb2ce9f        True     no    multi   \n1010455  00025e37-595f-48dd-a050-05d84fb2ce9f        True     no    multi   \n998361   00025e37-595f-48dd-a050-05d84fb2ce9f        True     no    multi   \n...                                       ...         ...    ...      ...   \n1559955  ffff4226-4328-404f-be4c-428d01a06ccd       False    yes    multi   \n1548650  ffff4226-4328-404f-be4c-428d01a06ccd       False    yes    multi   \n1537439  ffff4226-4328-404f-be4c-428d01a06ccd       False    yes    multi   \n1526186  ffff4226-4328-404f-be4c-428d01a06ccd       False    yes    multi   \n1515096  ffff4226-4328-404f-be4c-428d01a06ccd       False    yes    multi   \n\n         outlier  apyMean30d        date           time added  new_upload  \\\nid                                                                          \n1046401    False     3.33380  2023-07-25  2023-07-25 07:01:34       False   \n1034472    False     3.19825  2023-07-24  2023-07-24 07:01:17       False   \n1022470    False     3.08742  2023-07-23  2023-07-23 07:03:39       False   \n1010455    False     3.01907  2023-07-22  2023-07-22 11:49:58       False   \n998361     False     2.90118  2023-07-21  2023-07-21 07:01:11       False   \n...          ...         ...         ...                  ...         ...   \n1559955    False     0.00000  2023-09-08  2023-09-08 10:06:36       False   \n1548650    False     0.00000  2023-09-07  2023-09-07 11:38:08       False   \n1537439    False     0.00000  2023-09-06  2023-09-06 07:01:15       False   \n1526186    False     0.00000  2023-09-05  2023-09-05 07:01:12       False   \n1515096    False     0.00000  2023-09-04  2023-09-04 13:37:17       False   \n\n         possible_error  \nid                       \n1046401           False  \n1034472           False  \n1022470           False  \n1010455           False  \n998361            False  \n...                 ...  \n1559955           False  \n1548650           False  \n1537439           False  \n1526186           False  \n1515096           False  \n\n[2716888 rows x 15 columns]",
      "text/html": "<div>\n<style scoped>\n    .dataframe tbody tr th:only-of-type {\n        vertical-align: middle;\n    }\n\n    .dataframe tbody tr th {\n        vertical-align: top;\n    }\n\n    .dataframe thead th {\n        text-align: right;\n    }\n</style>\n<table border=\"1\" class=\"dataframe\">\n  <thead>\n    <tr style=\"text-align: right;\">\n      <th></th>\n      <th>chain</th>\n      <th>project</th>\n      <th>symbol</th>\n      <th>tvlUsd</th>\n      <th>apy</th>\n      <th>pool</th>\n      <th>stablecoin</th>\n      <th>ilRisk</th>\n      <th>exposure</th>\n      <th>outlier</th>\n      <th>apyMean30d</th>\n      <th>date</th>\n      <th>time added</th>\n      <th>new_upload</th>\n      <th>possible_error</th>\n    </tr>\n    <tr>\n      <th>id</th>\n      <th></th>\n      <th></th>\n      <th></th>\n      <th></th>\n      <th></th>\n      <th></th>\n      <th></th>\n      <th></th>\n      <th></th>\n      <th></th>\n      <th></th>\n      <th></th>\n      <th></th>\n      <th></th>\n      <th></th>\n    </tr>\n  </thead>\n  <tbody>\n    <tr>\n      <th>1046401</th>\n      <td>Fantom</td>\n      <td>beethoven-x</td>\n      <td>USDC-DAI</td>\n      <td>15398.0</td>\n      <td>0.01458</td>\n      <td>00025e37-595f-48dd-a050-05d84fb2ce9f</td>\n      <td>True</td>\n      <td>no</td>\n      <td>multi</td>\n      <td>False</td>\n      <td>3.33380</td>\n      <td>2023-07-25</td>\n      <td>2023-07-25 07:01:34</td>\n      <td>False</td>\n      <td>False</td>\n    </tr>\n    <tr>\n      <th>1034472</th>\n      <td>Fantom</td>\n      <td>beethoven-x</td>\n      <td>USDC-DAI</td>\n      <td>15398.0</td>\n      <td>0.01458</td>\n      <td>00025e37-595f-48dd-a050-05d84fb2ce9f</td>\n      <td>True</td>\n      <td>no</td>\n      <td>multi</td>\n      <td>False</td>\n      <td>3.19825</td>\n      <td>2023-07-24</td>\n      <td>2023-07-24 07:01:17</td>\n      <td>False</td>\n      <td>False</td>\n    </tr>\n    <tr>\n      <th>1022470</th>\n      <td>Fantom</td>\n      <td>beethoven-x</td>\n      <td>USDC-DAI</td>\n      <td>15398.0</td>\n      <td>0.01458</td>\n      <td>00025e37-595f-48dd-a050-05d84fb2ce9f</td>\n      <td>True</td>\n      <td>no</td>\n      <td>multi</td>\n      <td>False</td>\n      <td>3.08742</td>\n      <td>2023-07-23</td>\n      <td>2023-07-23 07:03:39</td>\n      <td>False</td>\n      <td>False</td>\n    </tr>\n    <tr>\n      <th>1010455</th>\n      <td>Fantom</td>\n      <td>beethoven-x</td>\n      <td>USDC-DAI</td>\n      <td>15398.0</td>\n      <td>0.01458</td>\n      <td>00025e37-595f-48dd-a050-05d84fb2ce9f</td>\n      <td>True</td>\n      <td>no</td>\n      <td>multi</td>\n      <td>False</td>\n      <td>3.01907</td>\n      <td>2023-07-22</td>\n      <td>2023-07-22 11:49:58</td>\n      <td>False</td>\n      <td>False</td>\n    </tr>\n    <tr>\n      <th>998361</th>\n      <td>Fantom</td>\n      <td>beethoven-x</td>\n      <td>USDC-DAI</td>\n      <td>15398.0</td>\n      <td>0.01458</td>\n      <td>00025e37-595f-48dd-a050-05d84fb2ce9f</td>\n      <td>True</td>\n      <td>no</td>\n      <td>multi</td>\n      <td>False</td>\n      <td>2.90118</td>\n      <td>2023-07-21</td>\n      <td>2023-07-21 07:01:11</td>\n      <td>False</td>\n      <td>False</td>\n    </tr>\n    <tr>\n      <th>...</th>\n      <td>...</td>\n      <td>...</td>\n      <td>...</td>\n      <td>...</td>\n      <td>...</td>\n      <td>...</td>\n      <td>...</td>\n      <td>...</td>\n      <td>...</td>\n      <td>...</td>\n      <td>...</td>\n      <td>...</td>\n      <td>...</td>\n      <td>...</td>\n      <td>...</td>\n    </tr>\n    <tr>\n      <th>1559955</th>\n      <td>Ethereum</td>\n      <td>uniswap-v2</td>\n      <td>BLOCK-WETH</td>\n      <td>144867.0</td>\n      <td>0.00000</td>\n      <td>ffff4226-4328-404f-be4c-428d01a06ccd</td>\n      <td>False</td>\n      <td>yes</td>\n      <td>multi</td>\n      <td>False</td>\n      <td>0.00000</td>\n      <td>2023-09-08</td>\n      <td>2023-09-08 10:06:36</td>\n      <td>False</td>\n      <td>False</td>\n    </tr>\n    <tr>\n      <th>1548650</th>\n      <td>Ethereum</td>\n      <td>uniswap-v2</td>\n      <td>BLOCK-WETH</td>\n      <td>145480.0</td>\n      <td>0.00000</td>\n      <td>ffff4226-4328-404f-be4c-428d01a06ccd</td>\n      <td>False</td>\n      <td>yes</td>\n      <td>multi</td>\n      <td>False</td>\n      <td>0.00000</td>\n      <td>2023-09-07</td>\n      <td>2023-09-07 11:38:08</td>\n      <td>False</td>\n      <td>False</td>\n    </tr>\n    <tr>\n      <th>1537439</th>\n      <td>Ethereum</td>\n      <td>uniswap-v2</td>\n      <td>BLOCK-WETH</td>\n      <td>147687.0</td>\n      <td>0.00000</td>\n      <td>ffff4226-4328-404f-be4c-428d01a06ccd</td>\n      <td>False</td>\n      <td>yes</td>\n      <td>multi</td>\n      <td>False</td>\n      <td>0.00000</td>\n      <td>2023-09-06</td>\n      <td>2023-09-06 07:01:15</td>\n      <td>False</td>\n      <td>False</td>\n    </tr>\n    <tr>\n      <th>1526186</th>\n      <td>Ethereum</td>\n      <td>uniswap-v2</td>\n      <td>BLOCK-WETH</td>\n      <td>137764.0</td>\n      <td>0.00000</td>\n      <td>ffff4226-4328-404f-be4c-428d01a06ccd</td>\n      <td>False</td>\n      <td>yes</td>\n      <td>multi</td>\n      <td>False</td>\n      <td>0.00000</td>\n      <td>2023-09-05</td>\n      <td>2023-09-05 07:01:12</td>\n      <td>False</td>\n      <td>False</td>\n    </tr>\n    <tr>\n      <th>1515096</th>\n      <td>Ethereum</td>\n      <td>uniswap-v2</td>\n      <td>BLOCK-WETH</td>\n      <td>119132.0</td>\n      <td>0.00000</td>\n      <td>ffff4226-4328-404f-be4c-428d01a06ccd</td>\n      <td>False</td>\n      <td>yes</td>\n      <td>multi</td>\n      <td>False</td>\n      <td>0.00000</td>\n      <td>2023-09-04</td>\n      <td>2023-09-04 13:37:17</td>\n      <td>False</td>\n      <td>False</td>\n    </tr>\n  </tbody>\n</table>\n<p>2716888 rows × 15 columns</p>\n</div>"
     },
     "execution_count": 6,
     "metadata": {},
     "output_type": "execute_result"
    }
   ],
   "source": [
    "# importing the data csv file\n",
    "flepath = r'/Users/karolk/Python_Work/Data_Sets/Global_Data/DeFi_Global_DB.csv'\n",
    "data = pd.read_csv(flepath, index_col=0)\n",
    "\n",
    "# sort the dataframe by 'pool' column then by 'date' column in descending order\n",
    "data.sort_values(by=['pool', 'date'], ascending=[True, False], inplace=True)\n",
    "\n",
    "# create 2 new columns to calculate the rolling average of the APY over 7 days and 30 days\n",
    "data['7_day_rolling_apy'] = data.groupby('pool')['apy'].rolling(7).mean().reset_index(0, drop=True)\n",
    "data['30_day_rolling_apy'] = data.groupby('pool')['apy'].rolling(30).mean().reset_index(0, drop=True)\n",
    "\n",
    "# create 2 new columns to calculate the change in tvlUsd over 7 days and 30 days\n",
    "data['7_day_change_tvlUsd'] = data.groupby('pool')['tvlUsd'].diff(7)\n",
    "data['30_day_change_tvlUsd'] = data.groupby('pool')['tvlUsd'].diff(30)\n",
    "\n",
    "\n",
    "\n"
   ],
   "metadata": {
    "collapsed": false,
    "ExecuteTime": {
     "end_time": "2023-12-16T10:18:49.319485Z",
     "start_time": "2023-12-16T10:18:42.830879Z"
    }
   },
   "id": "e5e8af82d77ecd48"
  }
 ],
 "metadata": {
  "kernelspec": {
   "display_name": "Python 3",
   "language": "python",
   "name": "python3"
  },
  "language_info": {
   "codemirror_mode": {
    "name": "ipython",
    "version": 2
   },
   "file_extension": ".py",
   "mimetype": "text/x-python",
   "name": "python",
   "nbconvert_exporter": "python",
   "pygments_lexer": "ipython2",
   "version": "2.7.6"
  }
 },
 "nbformat": 4,
 "nbformat_minor": 5
}
