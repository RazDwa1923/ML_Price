{
 "cells": [
  {
   "cell_type": "markdown",
   "source": [
    "## Creating Dataset for Machine Learning with SD Score\n",
    "\n",
    "The below script creates a dataset for machine learning with the following features:\n",
    "\n",
    "- TVL: Total Value Locked in USD\n",
    "- APY: Annual Percentage Yield\n",
    "- APY Mean 7D: The average APY over the last 7 days\n",
    "- APY Std 7D: The standard deviation of the APY over the last 7 days\n",
    "- TVL Percentile: The percentile of TVL at each date\n",
    "- APY 7D Percentile: The percentile of the 7 day APY at each date\n",
    "- APY 30D Percentile: The percentile of the 30 day APY at each date\n",
    "- APY 7D Std Ratio: The average APY for 7 days divided by the standard deviation of the APY for 7 days\n",
    "- TVL Change 7D: The change in TVL over the last 7 days\n",
    "- TVL Change 1D: The change in TVL over the last 1 day\n",
    "- SD Score: The product of '7 day APY percentile' and 'tvl percentile' multiplied by 100\n",
    "- SD Score 7D Avg: The rolling mean of the past 7 days SD score\n",
    "- SD Score 7D Std: The standard deviation of the SD_Score_7D over the last 7 days\n",
    "\n",
    "The dataset is a derivtive and statiscial description of TVL and APY data for DeFi protocols. The source of the data is DeFiLlama\n",
    "\n"
   ],
   "metadata": {
    "collapsed": false
   }
  },
  {
   "cell_type": "code",
   "execution_count": 1,
   "outputs": [],
   "source": [
    "# Import libraries and dependencies\n",
    "import pandas as pd\n",
    "\n",
    "data = pd.read_csv(r'/Users/karolk/Python_Work/Data_Sets/Global_Data/DeFi_Global_DB.csv', index_col=0)\n",
    "pd.set_option(\"display.max.columns\", None)\n",
    "pd.set_option(\"display.precision\", 4)\n",
    "pd.options.display.float_format = '{:,.2f}'.format\n"
   ],
   "metadata": {
    "collapsed": false,
    "ExecuteTime": {
     "end_time": "2024-03-01T10:54:07.048260Z",
     "start_time": "2024-03-01T10:54:02.798101Z"
    }
   }
  },
  {
   "cell_type": "code",
   "execution_count": 2,
   "outputs": [],
   "source": [
    "#set date and time added as datetime objects\n",
    "data['date'] = pd.to_datetime(data['date'])\n",
    "data['time added'] = pd.to_datetime(data['time added'])\n",
    "\n",
    "#drop all pools that have a TVL of 0 or a APY of 0\n",
    "data = data[(data['tvlUsd'] > 0) & (data['apy'] > 0)]\n",
    "\n",
    "# specify the start and end date\n",
    "analysis_date = pd.to_datetime('2023-12-31') # convert the end_date to a datetime object\n",
    "# end date is 21 days after the analysis date\n",
    "end_date = analysis_date + pd.DateOffset(days=10) \n",
    "# start date is 21 days before the analysis date\n",
    "start_date = analysis_date - pd.DateOffset(days=21)\n",
    "data = data[(data['date'] >= start_date) & (data['date'] <= end_date)]\n"
   ],
   "metadata": {
    "collapsed": false,
    "ExecuteTime": {
     "end_time": "2024-03-01T10:54:07.915348Z",
     "start_time": "2024-03-01T10:54:07.049073Z"
    }
   }
  },
  {
   "cell_type": "code",
   "outputs": [],
   "source": [
    "\n",
    "# select only stablecoin is true\n",
    "#data = data[data['stablecoin'] == True]\n",
    "\n",
    "# sort the data table by pool and by date\n",
    "data = data.sort_values(['pool', 'date'], ascending=[True, True]).reset_index(drop=True)\n",
    "\n",
    "# create a new column which would the average APY over the last 7 days using the 'apy' column\n",
    "data['apyMean7d'] = data.groupby('pool')['apy'].transform(lambda x: x.rolling(7, 1).mean())\n",
    "\n",
    "# create a new column for the standard deviation of the APY over the last 7 days\n",
    "data['apyStd7d'] = data.groupby('pool')['apy'].transform(lambda x: x.rolling(7, 1).std())\n",
    "\n",
    "# getting the forward mean APY for the next 7 days. \n",
    "data['apyMean7dForward'] = data.groupby('pool')['apy'].transform(lambda x: x.shift(-7).rolling(7, 1).mean())\n",
    "\n",
    "# getting the APY in 7 days\n",
    "data['apy7dForward'] = data.groupby('pool')['apy'].shift(-7)\n",
    "\n",
    "# creating a column for change in APY over the last 7 days measured\n",
    "data['apyChange7d'] = data.groupby(['pool'])['apy'].pct_change(7)*100\n",
    "\n",
    "# creating a column for the change in APY over the last 7 days in percentage\n",
    "data['apyChange7dPercent'] = data.groupby(['pool'])['apy'].pct_change(7) * 100\n",
    "\n",
    "# create a column which has the percentile for TVL for the TVL at each date\n",
    "data['tvlPercentile'] = data.groupby('date')['tvlUsd'].rank(pct=True)\n",
    "\n",
    "# create a column which has the percentile for 7 day APY\n",
    "data['apy7DPercentile'] = data.groupby('date')['apyMean7d'].rank(pct=True)\n",
    "\n",
    "# creating 2 new columns which is the average APY for 7 days divided by the standard deviation of the APY for 7 days\n",
    "data['apy7DStdRatio'] = data['apyMean7d'] / data['apyStd7d']\n",
    "\n",
    "# calculate a new column for the change in TVL over the last 7 days\n",
    "data['tvlChange7d'] = data.groupby(['pool'])['tvlUsd'].pct_change(periods=7) * 100\n",
    "\n",
    "# creating column with 'SD_Score' which is the product of '7 day APY percentile' and 'tvl percentile' multiplied by 100\n",
    "data['SD_Score'] = data['apy7DPercentile'] * data['tvlPercentile'] * 100\n",
    "\n",
    "# creating a column 'SD_Score_7D' which is the rolling mean of the past 7 days SD score\n",
    "data['SD_Score_7D_avg'] = data.groupby('pool')['SD_Score'].transform(lambda x: x.rolling(7, 1).mean())\n",
    "\n",
    "# create a column 'SD_Score_7D_std' which is the standard deviation of the SD_Score_7D over the last 7 days\n",
    "data['SD_Score_7D_std'] = data.groupby('pool')['SD_Score'].transform(lambda x: x.rolling(7, 1).std())\n",
    "\n",
    "# create a new column for forward SD_Score_7D_avg\n",
    "data['SD_Score_7D_forward_rolling'] = data.groupby('pool')['SD_Score'].transform(lambda x: x.shift(-7).rolling(7, 1).mean())\n",
    "\n",
    "# create a new column for the forward SD_Score_7D which is the SD_Score 7 days in the future\n",
    "data['SD_Score_7D_forward'] = data.groupby('pool')['SD_Score'].shift(-7)\n",
    "\n",
    "# create a new column which is the change in SD_Score over the last 7 days\n",
    "data['SD_Score_7D_change'] = data.groupby(['pool'])['SD_Score'].pct_change(7)*100\n",
    "\n",
    "# create a new column which is the change in SD_Score over the last 7 days\n",
    "data['SD_Score_7D_forward_change'] = data.groupby(['pool'])['SD_Score'].pct_change(-7)*100\n"
   ],
   "metadata": {
    "collapsed": false,
    "ExecuteTime": {
     "end_time": "2024-03-01T10:54:19.179235Z",
     "start_time": "2024-03-01T10:54:07.917137Z"
    }
   },
   "execution_count": 3
  },
  {
   "cell_type": "code",
   "outputs": [],
   "source": [
    "# Data Transformation - Adding new columns for the underlying tokens & taking only the most recent date\n",
    "\n",
    "# create a list of all unique symbols in the data set\n",
    "symbols = data['symbol'].unique()\n",
    "\n",
    "# sort the symbols alphabetically\n",
    "symbols.sort()\n",
    "\n",
    "# splitting the 'symbol' column into 4 new columns using str.split() method with '-' as the separator\n",
    "symbol_split = data['symbol'].str.split('-', expand=True, n=3)\n",
    "\n",
    "# adding the 4 new columns to the data dataframe\n",
    "symbol_split.columns = ['token_id_1', 'token_id_2', 'token_id_3', 'token_id_4']\n",
    "data = pd.concat([data, symbol_split], axis=1)\n",
    "\n",
    "# create a new column called num_tokens which is the number of tokens in the symbol\n",
    "data['num_tokens'] = data['symbol'].str.count('-') + 1\n"
   ],
   "metadata": {
    "collapsed": false,
    "ExecuteTime": {
     "end_time": "2024-03-01T10:54:19.605993Z",
     "start_time": "2024-03-01T10:54:19.180027Z"
    }
   },
   "execution_count": 4
  },
  {
   "cell_type": "code",
   "outputs": [],
   "source": [
    "# select the data that is equal to or less than the analysis date\n",
    "data = data[data['date'] <= analysis_date]\n",
    "\n",
    "# select data that is 7 days after the start date\n",
    "data = data[data['date'] >= start_date + pd.DateOffset(days=7)]"
   ],
   "metadata": {
    "collapsed": false,
    "ExecuteTime": {
     "end_time": "2024-03-01T10:54:19.649313Z",
     "start_time": "2024-03-01T10:54:19.606889Z"
    }
   },
   "execution_count": 5
  },
  {
   "cell_type": "code",
   "outputs": [
    {
     "data": {
      "text/plain": "         chain     project       symbol     tvlUsd      apy  \\\n6         Base  uniswap-v3     ISK-WETH 113,970.00     2.85   \n7         Base  uniswap-v3     ISK-WETH 113,706.00     0.58   \n8         Base  uniswap-v3     ISK-WETH 112,150.00     1.65   \n9         Base  uniswap-v3     ISK-WETH 114,564.00     1.55   \n10        Base  uniswap-v3     ISK-WETH 117,558.00     1.52   \n...        ...         ...          ...        ...      ...   \n313592  Solana     raydium  UNKNOWN-SOL  18,394.00     3.83   \n313593  Solana     raydium  UNKNOWN-SOL  18,789.00     0.21   \n313613  Solana     raydium  UNKNOWN-SOL  14,202.00 1,956.01   \n313614  Solana     raydium  UNKNOWN-SOL  14,202.00 1,956.01   \n313615  Solana     raydium  UNKNOWN-SOL  14,202.00 1,956.01   \n\n                                        pool  stablecoin ilRisk exposure  \\\n6       0005d7bf-1f14-4c74-92cd-857c9931053e       False    yes    multi   \n7       0005d7bf-1f14-4c74-92cd-857c9931053e       False    yes    multi   \n8       0005d7bf-1f14-4c74-92cd-857c9931053e       False    yes    multi   \n9       0005d7bf-1f14-4c74-92cd-857c9931053e       False    yes    multi   \n10      0005d7bf-1f14-4c74-92cd-857c9931053e       False    yes    multi   \n...                                      ...         ...    ...      ...   \n313592  fff61d0d-1ffd-43a8-b345-9743fbf3fb2a       False    yes    multi   \n313593  fff61d0d-1ffd-43a8-b345-9743fbf3fb2a       False    yes    multi   \n313613  fffc1e1e-0eeb-4f19-9617-b5b77822025e       False    yes    multi   \n313614  fffc1e1e-0eeb-4f19-9617-b5b77822025e       False    yes    multi   \n313615  fffc1e1e-0eeb-4f19-9617-b5b77822025e       False    yes    multi   \n\n        outlier  apyMean30d       date          time added  new_upload  \\\n6         False        3.46 2023-12-17 2023-12-17 07:03:11       False   \n7         False        3.42 2023-12-18 2023-12-18 07:21:59       False   \n8         False        3.39 2023-12-19 2023-12-19 07:01:17       False   \n9         False        3.26 2023-12-20 2023-12-20 07:31:38       False   \n10        False        3.20 2023-12-21 2023-12-21 08:56:46       False   \n...         ...         ...        ...                 ...         ...   \n313592     True      150.13 2023-12-30 2023-12-30 07:01:24       False   \n313593     True      137.17 2023-12-31 2023-12-31 07:01:19       False   \n313613     True    1,956.01 2023-12-29 2023-12-29 10:35:36       False   \n313614     True    1,956.01 2023-12-30 2023-12-30 07:01:24       False   \n313615     True    1,956.01 2023-12-31 2023-12-31 07:01:19       False   \n\n        possible_error  apyMean7d  apyStd7d  apyMean7dForward  apy7dForward  \\\n6                False       3.11      1.49              2.49          4.64   \n7                False       2.96      1.70              3.07          4.64   \n8                False       2.85      1.77              3.50          4.64   \n9                False       2.78      1.81              3.72          3.11   \n10               False       2.38      1.72              4.41          6.38   \n...                ...        ...       ...               ...           ...   \n313592           False       4.32      1.29              1.28          0.18   \n313593           False       3.84      2.03              1.26          0.02   \n313613           False   1,956.01       NaN               NaN           NaN   \n313614           False   1,956.01      0.00               NaN           NaN   \n313615           False   1,956.01      0.00               NaN           NaN   \n\n        apyChange7d  apyChange7dPercent  tvlPercentile  apy7DPercentile  \\\n6               NaN                 NaN           0.49             0.25   \n7            -64.06              -64.06           0.49             0.25   \n8            -32.93              -32.93           0.49             0.25   \n9            -23.51              -23.51           0.50             0.25   \n10           -64.84              -64.84           0.50             0.22   \n...             ...                 ...            ...              ...   \n313592         7.58                7.58           0.19             0.30   \n313593       -94.10              -94.10           0.19             0.28   \n313613          NaN                 NaN           0.13             0.96   \n313614          NaN                 NaN           0.14             0.96   \n313615          NaN                 NaN           0.13             0.96   \n\n        apy7DStdRatio  tvlChange7d  SD_Score  SD_Score_7D_avg  \\\n6                2.09          NaN     12.24            10.95   \n7                1.74        -0.20     12.23            11.22   \n8                1.61         3.19     12.34            11.53   \n9                1.53         3.71     12.16            11.88   \n10               1.38         4.79     11.22            11.90   \n...               ...          ...       ...              ...   \n313592           3.35       -18.59      5.88            13.84   \n313593           1.89       -21.03      5.42            11.93   \n313613            NaN          NaN     12.69            12.69   \n313614            inf          NaN     13.17            12.93   \n313615            inf          NaN     12.85            12.90   \n\n        SD_Score_7D_std  SD_Score_7D_forward_rolling  SD_Score_7D_forward  \\\n6                  0.96                        11.68                11.54   \n7                  1.02                        11.78                12.94   \n8                  0.98                        12.10                14.57   \n9                  0.57                        12.52                15.12   \n10                 0.54                        13.30                16.64   \n...                 ...                          ...                  ...   \n313592             6.90                         3.67                 1.63   \n313593             7.15                         3.14                 1.69   \n313613              NaN                          NaN                  NaN   \n313614             0.34                          NaN                  NaN   \n313615             0.24                          NaN                  NaN   \n\n        SD_Score_7D_change  SD_Score_7D_forward_change token_id_1 token_id_2  \\\n6                      NaN                        6.05        ISK       WETH   \n7                    18.47                       -5.55        ISK       WETH   \n8                    20.96                      -15.30        ISK       WETH   \n9                    25.37                      -19.59        ISK       WETH   \n10                    1.33                      -32.59        ISK       WETH   \n...                    ...                         ...        ...        ...   \n313592              -67.33                      259.68    UNKNOWN        SOL   \n313593              -71.08                      220.21    UNKNOWN        SOL   \n313613                 NaN                         NaN    UNKNOWN        SOL   \n313614                 NaN                         NaN    UNKNOWN        SOL   \n313615                 NaN                         NaN    UNKNOWN        SOL   \n\n       token_id_3 token_id_4  num_tokens  \n6            None       None           2  \n7            None       None           2  \n8            None       None           2  \n9            None       None           2  \n10           None       None           2  \n...           ...        ...         ...  \n313592       None       None           2  \n313593       None       None           2  \n313613       None       None           2  \n313614       None       None           2  \n313615       None       None           2  \n\n[154636 rows x 37 columns]",
      "text/html": "<div>\n<style scoped>\n    .dataframe tbody tr th:only-of-type {\n        vertical-align: middle;\n    }\n\n    .dataframe tbody tr th {\n        vertical-align: top;\n    }\n\n    .dataframe thead th {\n        text-align: right;\n    }\n</style>\n<table border=\"1\" class=\"dataframe\">\n  <thead>\n    <tr style=\"text-align: right;\">\n      <th></th>\n      <th>chain</th>\n      <th>project</th>\n      <th>symbol</th>\n      <th>tvlUsd</th>\n      <th>apy</th>\n      <th>pool</th>\n      <th>stablecoin</th>\n      <th>ilRisk</th>\n      <th>exposure</th>\n      <th>outlier</th>\n      <th>apyMean30d</th>\n      <th>date</th>\n      <th>time added</th>\n      <th>new_upload</th>\n      <th>possible_error</th>\n      <th>apyMean7d</th>\n      <th>apyStd7d</th>\n      <th>apyMean7dForward</th>\n      <th>apy7dForward</th>\n      <th>apyChange7d</th>\n      <th>apyChange7dPercent</th>\n      <th>tvlPercentile</th>\n      <th>apy7DPercentile</th>\n      <th>apy7DStdRatio</th>\n      <th>tvlChange7d</th>\n      <th>SD_Score</th>\n      <th>SD_Score_7D_avg</th>\n      <th>SD_Score_7D_std</th>\n      <th>SD_Score_7D_forward_rolling</th>\n      <th>SD_Score_7D_forward</th>\n      <th>SD_Score_7D_change</th>\n      <th>SD_Score_7D_forward_change</th>\n      <th>token_id_1</th>\n      <th>token_id_2</th>\n      <th>token_id_3</th>\n      <th>token_id_4</th>\n      <th>num_tokens</th>\n    </tr>\n  </thead>\n  <tbody>\n    <tr>\n      <th>6</th>\n      <td>Base</td>\n      <td>uniswap-v3</td>\n      <td>ISK-WETH</td>\n      <td>113,970.00</td>\n      <td>2.85</td>\n      <td>0005d7bf-1f14-4c74-92cd-857c9931053e</td>\n      <td>False</td>\n      <td>yes</td>\n      <td>multi</td>\n      <td>False</td>\n      <td>3.46</td>\n      <td>2023-12-17</td>\n      <td>2023-12-17 07:03:11</td>\n      <td>False</td>\n      <td>False</td>\n      <td>3.11</td>\n      <td>1.49</td>\n      <td>2.49</td>\n      <td>4.64</td>\n      <td>NaN</td>\n      <td>NaN</td>\n      <td>0.49</td>\n      <td>0.25</td>\n      <td>2.09</td>\n      <td>NaN</td>\n      <td>12.24</td>\n      <td>10.95</td>\n      <td>0.96</td>\n      <td>11.68</td>\n      <td>11.54</td>\n      <td>NaN</td>\n      <td>6.05</td>\n      <td>ISK</td>\n      <td>WETH</td>\n      <td>None</td>\n      <td>None</td>\n      <td>2</td>\n    </tr>\n    <tr>\n      <th>7</th>\n      <td>Base</td>\n      <td>uniswap-v3</td>\n      <td>ISK-WETH</td>\n      <td>113,706.00</td>\n      <td>0.58</td>\n      <td>0005d7bf-1f14-4c74-92cd-857c9931053e</td>\n      <td>False</td>\n      <td>yes</td>\n      <td>multi</td>\n      <td>False</td>\n      <td>3.42</td>\n      <td>2023-12-18</td>\n      <td>2023-12-18 07:21:59</td>\n      <td>False</td>\n      <td>False</td>\n      <td>2.96</td>\n      <td>1.70</td>\n      <td>3.07</td>\n      <td>4.64</td>\n      <td>-64.06</td>\n      <td>-64.06</td>\n      <td>0.49</td>\n      <td>0.25</td>\n      <td>1.74</td>\n      <td>-0.20</td>\n      <td>12.23</td>\n      <td>11.22</td>\n      <td>1.02</td>\n      <td>11.78</td>\n      <td>12.94</td>\n      <td>18.47</td>\n      <td>-5.55</td>\n      <td>ISK</td>\n      <td>WETH</td>\n      <td>None</td>\n      <td>None</td>\n      <td>2</td>\n    </tr>\n    <tr>\n      <th>8</th>\n      <td>Base</td>\n      <td>uniswap-v3</td>\n      <td>ISK-WETH</td>\n      <td>112,150.00</td>\n      <td>1.65</td>\n      <td>0005d7bf-1f14-4c74-92cd-857c9931053e</td>\n      <td>False</td>\n      <td>yes</td>\n      <td>multi</td>\n      <td>False</td>\n      <td>3.39</td>\n      <td>2023-12-19</td>\n      <td>2023-12-19 07:01:17</td>\n      <td>False</td>\n      <td>False</td>\n      <td>2.85</td>\n      <td>1.77</td>\n      <td>3.50</td>\n      <td>4.64</td>\n      <td>-32.93</td>\n      <td>-32.93</td>\n      <td>0.49</td>\n      <td>0.25</td>\n      <td>1.61</td>\n      <td>3.19</td>\n      <td>12.34</td>\n      <td>11.53</td>\n      <td>0.98</td>\n      <td>12.10</td>\n      <td>14.57</td>\n      <td>20.96</td>\n      <td>-15.30</td>\n      <td>ISK</td>\n      <td>WETH</td>\n      <td>None</td>\n      <td>None</td>\n      <td>2</td>\n    </tr>\n    <tr>\n      <th>9</th>\n      <td>Base</td>\n      <td>uniswap-v3</td>\n      <td>ISK-WETH</td>\n      <td>114,564.00</td>\n      <td>1.55</td>\n      <td>0005d7bf-1f14-4c74-92cd-857c9931053e</td>\n      <td>False</td>\n      <td>yes</td>\n      <td>multi</td>\n      <td>False</td>\n      <td>3.26</td>\n      <td>2023-12-20</td>\n      <td>2023-12-20 07:31:38</td>\n      <td>False</td>\n      <td>False</td>\n      <td>2.78</td>\n      <td>1.81</td>\n      <td>3.72</td>\n      <td>3.11</td>\n      <td>-23.51</td>\n      <td>-23.51</td>\n      <td>0.50</td>\n      <td>0.25</td>\n      <td>1.53</td>\n      <td>3.71</td>\n      <td>12.16</td>\n      <td>11.88</td>\n      <td>0.57</td>\n      <td>12.52</td>\n      <td>15.12</td>\n      <td>25.37</td>\n      <td>-19.59</td>\n      <td>ISK</td>\n      <td>WETH</td>\n      <td>None</td>\n      <td>None</td>\n      <td>2</td>\n    </tr>\n    <tr>\n      <th>10</th>\n      <td>Base</td>\n      <td>uniswap-v3</td>\n      <td>ISK-WETH</td>\n      <td>117,558.00</td>\n      <td>1.52</td>\n      <td>0005d7bf-1f14-4c74-92cd-857c9931053e</td>\n      <td>False</td>\n      <td>yes</td>\n      <td>multi</td>\n      <td>False</td>\n      <td>3.20</td>\n      <td>2023-12-21</td>\n      <td>2023-12-21 08:56:46</td>\n      <td>False</td>\n      <td>False</td>\n      <td>2.38</td>\n      <td>1.72</td>\n      <td>4.41</td>\n      <td>6.38</td>\n      <td>-64.84</td>\n      <td>-64.84</td>\n      <td>0.50</td>\n      <td>0.22</td>\n      <td>1.38</td>\n      <td>4.79</td>\n      <td>11.22</td>\n      <td>11.90</td>\n      <td>0.54</td>\n      <td>13.30</td>\n      <td>16.64</td>\n      <td>1.33</td>\n      <td>-32.59</td>\n      <td>ISK</td>\n      <td>WETH</td>\n      <td>None</td>\n      <td>None</td>\n      <td>2</td>\n    </tr>\n    <tr>\n      <th>...</th>\n      <td>...</td>\n      <td>...</td>\n      <td>...</td>\n      <td>...</td>\n      <td>...</td>\n      <td>...</td>\n      <td>...</td>\n      <td>...</td>\n      <td>...</td>\n      <td>...</td>\n      <td>...</td>\n      <td>...</td>\n      <td>...</td>\n      <td>...</td>\n      <td>...</td>\n      <td>...</td>\n      <td>...</td>\n      <td>...</td>\n      <td>...</td>\n      <td>...</td>\n      <td>...</td>\n      <td>...</td>\n      <td>...</td>\n      <td>...</td>\n      <td>...</td>\n      <td>...</td>\n      <td>...</td>\n      <td>...</td>\n      <td>...</td>\n      <td>...</td>\n      <td>...</td>\n      <td>...</td>\n      <td>...</td>\n      <td>...</td>\n      <td>...</td>\n      <td>...</td>\n      <td>...</td>\n    </tr>\n    <tr>\n      <th>313592</th>\n      <td>Solana</td>\n      <td>raydium</td>\n      <td>UNKNOWN-SOL</td>\n      <td>18,394.00</td>\n      <td>3.83</td>\n      <td>fff61d0d-1ffd-43a8-b345-9743fbf3fb2a</td>\n      <td>False</td>\n      <td>yes</td>\n      <td>multi</td>\n      <td>True</td>\n      <td>150.13</td>\n      <td>2023-12-30</td>\n      <td>2023-12-30 07:01:24</td>\n      <td>False</td>\n      <td>False</td>\n      <td>4.32</td>\n      <td>1.29</td>\n      <td>1.28</td>\n      <td>0.18</td>\n      <td>7.58</td>\n      <td>7.58</td>\n      <td>0.19</td>\n      <td>0.30</td>\n      <td>3.35</td>\n      <td>-18.59</td>\n      <td>5.88</td>\n      <td>13.84</td>\n      <td>6.90</td>\n      <td>3.67</td>\n      <td>1.63</td>\n      <td>-67.33</td>\n      <td>259.68</td>\n      <td>UNKNOWN</td>\n      <td>SOL</td>\n      <td>None</td>\n      <td>None</td>\n      <td>2</td>\n    </tr>\n    <tr>\n      <th>313593</th>\n      <td>Solana</td>\n      <td>raydium</td>\n      <td>UNKNOWN-SOL</td>\n      <td>18,789.00</td>\n      <td>0.21</td>\n      <td>fff61d0d-1ffd-43a8-b345-9743fbf3fb2a</td>\n      <td>False</td>\n      <td>yes</td>\n      <td>multi</td>\n      <td>True</td>\n      <td>137.17</td>\n      <td>2023-12-31</td>\n      <td>2023-12-31 07:01:19</td>\n      <td>False</td>\n      <td>False</td>\n      <td>3.84</td>\n      <td>2.03</td>\n      <td>1.26</td>\n      <td>0.02</td>\n      <td>-94.10</td>\n      <td>-94.10</td>\n      <td>0.19</td>\n      <td>0.28</td>\n      <td>1.89</td>\n      <td>-21.03</td>\n      <td>5.42</td>\n      <td>11.93</td>\n      <td>7.15</td>\n      <td>3.14</td>\n      <td>1.69</td>\n      <td>-71.08</td>\n      <td>220.21</td>\n      <td>UNKNOWN</td>\n      <td>SOL</td>\n      <td>None</td>\n      <td>None</td>\n      <td>2</td>\n    </tr>\n    <tr>\n      <th>313613</th>\n      <td>Solana</td>\n      <td>raydium</td>\n      <td>UNKNOWN-SOL</td>\n      <td>14,202.00</td>\n      <td>1,956.01</td>\n      <td>fffc1e1e-0eeb-4f19-9617-b5b77822025e</td>\n      <td>False</td>\n      <td>yes</td>\n      <td>multi</td>\n      <td>True</td>\n      <td>1,956.01</td>\n      <td>2023-12-29</td>\n      <td>2023-12-29 10:35:36</td>\n      <td>False</td>\n      <td>False</td>\n      <td>1,956.01</td>\n      <td>NaN</td>\n      <td>NaN</td>\n      <td>NaN</td>\n      <td>NaN</td>\n      <td>NaN</td>\n      <td>0.13</td>\n      <td>0.96</td>\n      <td>NaN</td>\n      <td>NaN</td>\n      <td>12.69</td>\n      <td>12.69</td>\n      <td>NaN</td>\n      <td>NaN</td>\n      <td>NaN</td>\n      <td>NaN</td>\n      <td>NaN</td>\n      <td>UNKNOWN</td>\n      <td>SOL</td>\n      <td>None</td>\n      <td>None</td>\n      <td>2</td>\n    </tr>\n    <tr>\n      <th>313614</th>\n      <td>Solana</td>\n      <td>raydium</td>\n      <td>UNKNOWN-SOL</td>\n      <td>14,202.00</td>\n      <td>1,956.01</td>\n      <td>fffc1e1e-0eeb-4f19-9617-b5b77822025e</td>\n      <td>False</td>\n      <td>yes</td>\n      <td>multi</td>\n      <td>True</td>\n      <td>1,956.01</td>\n      <td>2023-12-30</td>\n      <td>2023-12-30 07:01:24</td>\n      <td>False</td>\n      <td>False</td>\n      <td>1,956.01</td>\n      <td>0.00</td>\n      <td>NaN</td>\n      <td>NaN</td>\n      <td>NaN</td>\n      <td>NaN</td>\n      <td>0.14</td>\n      <td>0.96</td>\n      <td>inf</td>\n      <td>NaN</td>\n      <td>13.17</td>\n      <td>12.93</td>\n      <td>0.34</td>\n      <td>NaN</td>\n      <td>NaN</td>\n      <td>NaN</td>\n      <td>NaN</td>\n      <td>UNKNOWN</td>\n      <td>SOL</td>\n      <td>None</td>\n      <td>None</td>\n      <td>2</td>\n    </tr>\n    <tr>\n      <th>313615</th>\n      <td>Solana</td>\n      <td>raydium</td>\n      <td>UNKNOWN-SOL</td>\n      <td>14,202.00</td>\n      <td>1,956.01</td>\n      <td>fffc1e1e-0eeb-4f19-9617-b5b77822025e</td>\n      <td>False</td>\n      <td>yes</td>\n      <td>multi</td>\n      <td>True</td>\n      <td>1,956.01</td>\n      <td>2023-12-31</td>\n      <td>2023-12-31 07:01:19</td>\n      <td>False</td>\n      <td>False</td>\n      <td>1,956.01</td>\n      <td>0.00</td>\n      <td>NaN</td>\n      <td>NaN</td>\n      <td>NaN</td>\n      <td>NaN</td>\n      <td>0.13</td>\n      <td>0.96</td>\n      <td>inf</td>\n      <td>NaN</td>\n      <td>12.85</td>\n      <td>12.90</td>\n      <td>0.24</td>\n      <td>NaN</td>\n      <td>NaN</td>\n      <td>NaN</td>\n      <td>NaN</td>\n      <td>UNKNOWN</td>\n      <td>SOL</td>\n      <td>None</td>\n      <td>None</td>\n      <td>2</td>\n    </tr>\n  </tbody>\n</table>\n<p>154636 rows × 37 columns</p>\n</div>"
     },
     "execution_count": 6,
     "metadata": {},
     "output_type": "execute_result"
    }
   ],
   "source": [
    "data"
   ],
   "metadata": {
    "collapsed": false,
    "ExecuteTime": {
     "end_time": "2024-03-01T10:54:19.669038Z",
     "start_time": "2024-03-01T10:54:19.650003Z"
    }
   },
   "execution_count": 6
  },
  {
   "cell_type": "code",
   "execution_count": 7,
   "outputs": [],
   "source": [
    "# save the data to a csv file\n",
    "filepath= '/Users/karolk/Python_Work/ML_Price/Datasets/DeFi_Quant_Data.csv'\n",
    "data.to_csv(filepath, index=False)"
   ],
   "metadata": {
    "collapsed": false,
    "ExecuteTime": {
     "end_time": "2024-03-01T10:54:22.329827Z",
     "start_time": "2024-03-01T10:54:19.669870Z"
    }
   }
  }
 ],
 "metadata": {
  "kernelspec": {
   "display_name": "Python 3",
   "language": "python",
   "name": "python3"
  },
  "language_info": {
   "codemirror_mode": {
    "name": "ipython",
    "version": 2
   },
   "file_extension": ".py",
   "mimetype": "text/x-python",
   "name": "python",
   "nbconvert_exporter": "python",
   "pygments_lexer": "ipython2",
   "version": "2.7.6"
  }
 },
 "nbformat": 4,
 "nbformat_minor": 0
}
