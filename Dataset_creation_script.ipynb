{
 "cells": [
  {
   "cell_type": "markdown",
   "source": [
    "## Creating Dataset for Machine Learning with SD Score\n",
    "\n",
    "The below script creates a dataset for machine learning with the following features:\n",
    "\n",
    "- TVL: Total Value Locked in USD\n",
    "- APY: Annual Percentage Yield\n",
    "- APY Mean 7D: The average APY over the last 7 days\n",
    "- APY Std 7D: The standard deviation of the APY over the last 7 days\n",
    "- TVL Percentile: The percentile of TVL at each date\n",
    "- APY 7D Percentile: The percentile of the 7 day APY at each date\n",
    "- APY 30D Percentile: The percentile of the 30 day APY at each date\n",
    "- APY 7D Std Ratio: The average APY for 7 days divided by the standard deviation of the APY for 7 days\n",
    "- TVL Change 7D: The change in TVL over the last 7 days\n",
    "- TVL Change 1D: The change in TVL over the last 1 day\n",
    "- SD Score: The product of '7 day APY percentile' and 'tvl percentile' multiplied by 100\n",
    "- SD Score 7D Avg: The rolling mean of the past 7 days SD score\n",
    "- SD Score 7D Std: The standard deviation of the SD_Score_7D over the last 7 days\n",
    "\n",
    "The dataset is a derivtive and statiscial description of TVL and APY data for DeFi protocols. The source of the data is DeFiLlama\n",
    "\n"
   ],
   "metadata": {
    "collapsed": false
   }
  },
  {
   "cell_type": "code",
   "execution_count": 31,
   "outputs": [],
   "source": [
    "# Import libraries and dependencies\n",
    "import pandas as pd\n",
    "\n",
    "data = pd.read_csv(r'/Users/karolk/Python_Work/Data_Sets/Global_Data/DeFi_Global_DB.csv', index_col=0)\n",
    "pd.set_option(\"display.max.columns\", None)\n",
    "pd.set_option(\"display.precision\", 4)\n",
    "pd.options.display.float_format = '{:,.2f}'.format\n"
   ],
   "metadata": {
    "collapsed": false,
    "ExecuteTime": {
     "end_time": "2024-03-01T10:12:33.983471Z",
     "start_time": "2024-03-01T10:12:30.026856Z"
    }
   }
  },
  {
   "cell_type": "code",
   "execution_count": 32,
   "outputs": [],
   "source": [
    "#set date and time added as datetime objects\n",
    "data['date'] = pd.to_datetime(data['date'])\n",
    "data['time added'] = pd.to_datetime(data['time added'])\n",
    "\n",
    "#drop all pools that have a TVL of 0 or a APY of 0\n",
    "data = data[(data['tvlUsd'] > 0) & (data['apy'] > 0)]\n",
    "\n",
    "# specify the start and end date\n",
    "analysis_date = pd.to_datetime('2023-11-30') # convert the end_date to a datetime object\n",
    "# end date is 21 days after the analysis date\n",
    "end_date = analysis_date + pd.DateOffset(days=10) \n",
    "# start date is 21 days before the analysis date\n",
    "start_date = analysis_date - pd.DateOffset(days=21)\n",
    "data = data[(data['date'] >= start_date) & (data['date'] <= end_date)]\n"
   ],
   "metadata": {
    "collapsed": false,
    "ExecuteTime": {
     "end_time": "2024-03-01T10:12:34.800452Z",
     "start_time": "2024-03-01T10:12:33.984276Z"
    }
   }
  },
  {
   "cell_type": "code",
   "outputs": [],
   "source": [
    "\n",
    "# select only stablecoin is true\n",
    "#data = data[data['stablecoin'] == True]\n",
    "\n",
    "# sort the data table by pool and by date\n",
    "data = data.sort_values(['pool', 'date'], ascending=[True, True]).reset_index(drop=True)\n",
    "\n",
    "# create a new column which would the average APY over the last 7 days using the 'apy' column\n",
    "data['apyMean7d'] = data.groupby('pool')['apy'].transform(lambda x: x.rolling(7, 1).mean())\n",
    "\n",
    "# create a new column for the standard deviation of the APY over the last 7 days\n",
    "data['apyStd7d'] = data.groupby('pool')['apy'].transform(lambda x: x.rolling(7, 1).std())\n",
    "\n",
    "# getting the forward mean APY for the next 7 days. \n",
    "data['apyMean7dForward'] = data.groupby('pool')['apy'].transform(lambda x: x.shift(-7).rolling(7, 1).mean())\n",
    "\n",
    "# getting the APY in 7 days\n",
    "data['apy7dForward'] = data.groupby('pool')['apy'].shift(-7)\n",
    "\n",
    "# creating a column for change in APY over the last 7 days measured\n",
    "data['apyChange7d'] = data.groupby(['pool'])['apy'].pct_change(7)*100\n",
    "\n",
    "# creating a column for the change in APY over the last 7 days in percentage\n",
    "data['apyChange7dPercent'] = data.groupby(['pool'])['apy'].pct_change(7) * 100\n",
    "\n",
    "# create a column which has the percentile for TVL for the TVL at each date\n",
    "data['tvlPercentile'] = data.groupby('date')['tvlUsd'].rank(pct=True)\n",
    "\n",
    "# create a column which has the percentile for 7 day APY\n",
    "data['apy7DPercentile'] = data.groupby('date')['apyMean7d'].rank(pct=True)\n",
    "\n",
    "# creating 2 new columns which is the average APY for 7 days divided by the standard deviation of the APY for 7 days\n",
    "data['apy7DStdRatio'] = data['apyMean7d'] / data['apyStd7d']\n",
    "\n",
    "# calculate a new column for the change in TVL over the last 7 days\n",
    "data['tvlChange7d'] = data.groupby(['pool'])['tvlUsd'].pct_change(periods=7) * 100\n",
    "\n",
    "# creating column with 'SD_Score' which is the product of '7 day APY percentile' and 'tvl percentile' multiplied by 100\n",
    "data['SD_Score'] = data['apy7DPercentile'] * data['tvlPercentile'] * 100\n",
    "\n",
    "# creating a column 'SD_Score_7D' which is the rolling mean of the past 7 days SD score\n",
    "data['SD_Score_7D_avg'] = data.groupby('pool')['SD_Score'].transform(lambda x: x.rolling(7, 1).mean())\n",
    "\n",
    "# create a column 'SD_Score_7D_std' which is the standard deviation of the SD_Score_7D over the last 7 days\n",
    "data['SD_Score_7D_std'] = data.groupby('pool')['SD_Score'].transform(lambda x: x.rolling(7, 1).std())\n",
    "\n",
    "# create a new column for forward SD_Score_7D_avg\n",
    "data['SD_Score_7D_forward_rolling'] = data.groupby('pool')['SD_Score'].transform(lambda x: x.shift(-7).rolling(7, 1).mean())\n",
    "\n",
    "# create a new column for the forward SD_Score_7D which is the SD_Score 7 days in the future\n",
    "data['SD_Score_7D_forward'] = data.groupby('pool')['SD_Score'].shift(-7)\n",
    "\n",
    "# create a new column which is the change in SD_Score over the last 7 days\n",
    "data['SD_Score_7D_change'] = data.groupby(['pool'])['SD_Score'].pct_change(7)*100\n",
    "\n",
    "# create a new column which is the change in SD_Score over the last 7 days\n",
    "data['SD_Score_7D_forward_change'] = data.groupby(['pool'])['SD_Score'].pct_change(-7)*100\n"
   ],
   "metadata": {
    "collapsed": false,
    "ExecuteTime": {
     "end_time": "2024-03-01T10:12:44.113836Z",
     "start_time": "2024-03-01T10:12:34.802686Z"
    }
   },
   "execution_count": 33
  },
  {
   "cell_type": "code",
   "outputs": [],
   "source": [
    "# Data Transformation - Adding new columns for the underlying tokens & taking only the most recent date\n",
    "\n",
    "# create a list of all unique symbols in the data set\n",
    "symbols = data['symbol'].unique()\n",
    "\n",
    "# sort the symbols alphabetically\n",
    "symbols.sort()\n",
    "\n",
    "# splitting the 'symbol' column into 4 new columns using str.split() method with '-' as the separator\n",
    "symbol_split = data['symbol'].str.split('-', expand=True, n=3)\n",
    "\n",
    "# adding the 4 new columns to the data dataframe\n",
    "symbol_split.columns = ['token_id_1', 'token_id_2', 'token_id_3', 'token_id_4']\n",
    "data = pd.concat([data, symbol_split], axis=1)\n",
    "\n",
    "# create a new column called num_tokens which is the number of tokens in the symbol\n",
    "data['num_tokens'] = data['symbol'].str.count('-') + 1\n"
   ],
   "metadata": {
    "collapsed": false,
    "ExecuteTime": {
     "end_time": "2024-03-01T10:12:44.667189Z",
     "start_time": "2024-03-01T10:12:44.114665Z"
    }
   },
   "execution_count": 34
  },
  {
   "cell_type": "code",
   "outputs": [],
   "source": [
    "# select the data that is equal to or less than the analysis date\n",
    "data = data[data['date'] <= analysis_date]\n",
    "\n",
    "# select data that is 7 days after the start date\n",
    "data = data[data['date'] >= start_date + pd.DateOffset(days=7)]"
   ],
   "metadata": {
    "collapsed": false,
    "ExecuteTime": {
     "end_time": "2024-03-01T10:12:44.711659Z",
     "start_time": "2024-03-01T10:12:44.668071Z"
    }
   },
   "execution_count": 35
  },
  {
   "cell_type": "code",
   "outputs": [
    {
     "data": {
      "text/plain": "           chain     project    symbol     tvlUsd  apy  \\\n7           Base  uniswap-v3  ISK-WETH 185,290.00 0.98   \n8           Base  uniswap-v3  ISK-WETH 185,290.00 0.98   \n9           Base  uniswap-v3  ISK-WETH 185,290.00 0.98   \n10          Base  uniswap-v3  ISK-WETH 185,290.00 0.98   \n11          Base  uniswap-v3  ISK-WETH 111,779.00 0.26   \n...          ...         ...       ...        ...  ...   \n293453  Ethereum  uniswap-v2   HT-WETH 173,392.00 0.08   \n293463       BSC  uniswap-v3  USDT-NCX 171,541.00 1.82   \n293464       BSC  uniswap-v3  USDT-NCX 235,742.00 3.09   \n293465       BSC  uniswap-v3  USDT-NCX 235,742.00 3.09   \n293466       BSC  uniswap-v3  USDT-NCX 235,742.00 3.09   \n\n                                        pool  stablecoin ilRisk exposure  \\\n7       0005d7bf-1f14-4c74-92cd-857c9931053e       False    yes    multi   \n8       0005d7bf-1f14-4c74-92cd-857c9931053e       False    yes    multi   \n9       0005d7bf-1f14-4c74-92cd-857c9931053e       False    yes    multi   \n10      0005d7bf-1f14-4c74-92cd-857c9931053e       False    yes    multi   \n11      0005d7bf-1f14-4c74-92cd-857c9931053e       False    yes    multi   \n...                                      ...         ...    ...      ...   \n293453  fff0af84-1d67-4d88-b2ec-cbba9d5c03ca       False    yes    multi   \n293463  fff671da-4520-4a5f-bb4e-3dab41a8d1a0       False    yes    multi   \n293464  fff671da-4520-4a5f-bb4e-3dab41a8d1a0       False    yes    multi   \n293465  fff671da-4520-4a5f-bb4e-3dab41a8d1a0       False    yes    multi   \n293466  fff671da-4520-4a5f-bb4e-3dab41a8d1a0       False    yes    multi   \n\n        outlier  apyMean30d       date          time added  new_upload  \\\n7         False        1.13 2023-11-16 2023-11-16 07:18:02       False   \n8         False        1.17 2023-11-17 2023-11-17 07:03:44       False   \n9         False        1.20 2023-11-18 2023-11-18 07:16:53       False   \n10        False        1.15 2023-11-19 2023-11-19 07:02:02       False   \n11        False        1.92 2023-11-27 2023-11-27 07:18:31       False   \n...         ...         ...        ...                 ...         ...   \n293453    False        6.92 2023-11-30 2023-11-30 07:09:43       False   \n293463    False        0.97 2023-11-27 2023-11-27 07:18:31       False   \n293464    False        1.11 2023-11-28 2023-11-28 07:09:56       False   \n293465    False        1.11 2023-11-29 2023-11-29 07:08:22       False   \n293466    False        1.11 2023-11-30 2023-11-30 07:09:43       False   \n\n        possible_error  apyMean7d  apyStd7d  apyMean7dForward  apy7dForward  \\\n7                False       1.26      0.68              1.10          1.33   \n8                False       1.05      0.40              1.31          2.43   \n9                False       0.92      0.17              1.38          1.47   \n10               False       0.98      0.00              1.61          2.63   \n11               False       0.88      0.27              2.11          3.70   \n...                ...        ...       ...               ...           ...   \n293453           False       3.40      2.80             21.82          1.01   \n293463           False       1.82       NaN              3.09          3.09   \n293464           False       2.45      0.90              3.09           NaN   \n293465           False       2.66      0.73              3.09           NaN   \n293466           False       2.77      0.64              3.09           NaN   \n\n        apyChange7d  apyChange7dPercent  tvlPercentile  apy7DPercentile  \\\n7            -64.98              -64.98           0.54             0.17   \n8            -60.62              -60.62           0.54             0.16   \n9            -47.92              -47.92           0.54             0.15   \n10            83.84               83.84           0.54             0.15   \n11           -73.63              -73.63           0.45             0.18   \n...             ...                 ...            ...              ...   \n293453       -98.66              -98.66           0.53             0.34   \n293463          NaN                 NaN           0.53             0.25   \n293464          NaN                 NaN           0.59             0.30   \n293465          NaN                 NaN           0.59             0.30   \n293466          NaN                 NaN           0.59             0.30   \n\n        apy7DStdRatio  tvlChange7d  SD_Score  SD_Score_7D_avg  \\\n7                1.87         4.51      9.17            11.92   \n8                2.58         1.06      8.42            10.91   \n9                5.42        -0.18      8.03            10.02   \n10                inf         0.81      8.28             9.47   \n11               3.22       -39.67      8.08             8.99   \n...               ...          ...       ...              ...   \n293453           1.21        -2.78     18.01            20.99   \n293463            NaN          NaN     13.22            13.22   \n293464           2.73          NaN     17.61            15.42   \n293465           3.63          NaN     17.82            16.22   \n293466           4.36          NaN     17.99            16.66   \n\n        SD_Score_7D_std  SD_Score_7D_forward_rolling  SD_Score_7D_forward  \\\n7                  2.25                         8.32                 8.59   \n8                  1.93                         8.37                 8.80   \n9                  1.53                         8.48                 8.81   \n10                 1.32                         8.67                 9.58   \n11                 1.09                         9.11                11.15   \n...                 ...                          ...                  ...   \n293453             2.15                        23.46                37.66   \n293463              NaN                        17.83                17.83   \n293464             3.10                        17.83                  NaN   \n293465             2.60                        17.83                  NaN   \n293466             2.30                        17.83                  NaN   \n\n        SD_Score_7D_change  SD_Score_7D_forward_change token_id_1 token_id_2  \\\n7                   -48.70                        6.85        ISK       WETH   \n8                   -45.81                       -4.26        ISK       WETH   \n9                   -43.62                       -8.81        ISK       WETH   \n10                  -31.66                      -13.61        ISK       WETH   \n11                  -29.18                      -27.53        ISK       WETH   \n...                    ...                         ...        ...        ...   \n293453                5.41                      -52.17         HT       WETH   \n293463                 NaN                      -25.85       USDT        NCX   \n293464                 NaN                         NaN       USDT        NCX   \n293465                 NaN                         NaN       USDT        NCX   \n293466                 NaN                         NaN       USDT        NCX   \n\n       token_id_3 token_id_4  num_tokens  \n7            None       None           2  \n8            None       None           2  \n9            None       None           2  \n10           None       None           2  \n11           None       None           2  \n...           ...        ...         ...  \n293453       None       None           2  \n293463       None       None           2  \n293464       None       None           2  \n293465       None       None           2  \n293466       None       None           2  \n\n[141230 rows x 37 columns]",
      "text/html": "<div>\n<style scoped>\n    .dataframe tbody tr th:only-of-type {\n        vertical-align: middle;\n    }\n\n    .dataframe tbody tr th {\n        vertical-align: top;\n    }\n\n    .dataframe thead th {\n        text-align: right;\n    }\n</style>\n<table border=\"1\" class=\"dataframe\">\n  <thead>\n    <tr style=\"text-align: right;\">\n      <th></th>\n      <th>chain</th>\n      <th>project</th>\n      <th>symbol</th>\n      <th>tvlUsd</th>\n      <th>apy</th>\n      <th>pool</th>\n      <th>stablecoin</th>\n      <th>ilRisk</th>\n      <th>exposure</th>\n      <th>outlier</th>\n      <th>apyMean30d</th>\n      <th>date</th>\n      <th>time added</th>\n      <th>new_upload</th>\n      <th>possible_error</th>\n      <th>apyMean7d</th>\n      <th>apyStd7d</th>\n      <th>apyMean7dForward</th>\n      <th>apy7dForward</th>\n      <th>apyChange7d</th>\n      <th>apyChange7dPercent</th>\n      <th>tvlPercentile</th>\n      <th>apy7DPercentile</th>\n      <th>apy7DStdRatio</th>\n      <th>tvlChange7d</th>\n      <th>SD_Score</th>\n      <th>SD_Score_7D_avg</th>\n      <th>SD_Score_7D_std</th>\n      <th>SD_Score_7D_forward_rolling</th>\n      <th>SD_Score_7D_forward</th>\n      <th>SD_Score_7D_change</th>\n      <th>SD_Score_7D_forward_change</th>\n      <th>token_id_1</th>\n      <th>token_id_2</th>\n      <th>token_id_3</th>\n      <th>token_id_4</th>\n      <th>num_tokens</th>\n    </tr>\n  </thead>\n  <tbody>\n    <tr>\n      <th>7</th>\n      <td>Base</td>\n      <td>uniswap-v3</td>\n      <td>ISK-WETH</td>\n      <td>185,290.00</td>\n      <td>0.98</td>\n      <td>0005d7bf-1f14-4c74-92cd-857c9931053e</td>\n      <td>False</td>\n      <td>yes</td>\n      <td>multi</td>\n      <td>False</td>\n      <td>1.13</td>\n      <td>2023-11-16</td>\n      <td>2023-11-16 07:18:02</td>\n      <td>False</td>\n      <td>False</td>\n      <td>1.26</td>\n      <td>0.68</td>\n      <td>1.10</td>\n      <td>1.33</td>\n      <td>-64.98</td>\n      <td>-64.98</td>\n      <td>0.54</td>\n      <td>0.17</td>\n      <td>1.87</td>\n      <td>4.51</td>\n      <td>9.17</td>\n      <td>11.92</td>\n      <td>2.25</td>\n      <td>8.32</td>\n      <td>8.59</td>\n      <td>-48.70</td>\n      <td>6.85</td>\n      <td>ISK</td>\n      <td>WETH</td>\n      <td>None</td>\n      <td>None</td>\n      <td>2</td>\n    </tr>\n    <tr>\n      <th>8</th>\n      <td>Base</td>\n      <td>uniswap-v3</td>\n      <td>ISK-WETH</td>\n      <td>185,290.00</td>\n      <td>0.98</td>\n      <td>0005d7bf-1f14-4c74-92cd-857c9931053e</td>\n      <td>False</td>\n      <td>yes</td>\n      <td>multi</td>\n      <td>False</td>\n      <td>1.17</td>\n      <td>2023-11-17</td>\n      <td>2023-11-17 07:03:44</td>\n      <td>False</td>\n      <td>False</td>\n      <td>1.05</td>\n      <td>0.40</td>\n      <td>1.31</td>\n      <td>2.43</td>\n      <td>-60.62</td>\n      <td>-60.62</td>\n      <td>0.54</td>\n      <td>0.16</td>\n      <td>2.58</td>\n      <td>1.06</td>\n      <td>8.42</td>\n      <td>10.91</td>\n      <td>1.93</td>\n      <td>8.37</td>\n      <td>8.80</td>\n      <td>-45.81</td>\n      <td>-4.26</td>\n      <td>ISK</td>\n      <td>WETH</td>\n      <td>None</td>\n      <td>None</td>\n      <td>2</td>\n    </tr>\n    <tr>\n      <th>9</th>\n      <td>Base</td>\n      <td>uniswap-v3</td>\n      <td>ISK-WETH</td>\n      <td>185,290.00</td>\n      <td>0.98</td>\n      <td>0005d7bf-1f14-4c74-92cd-857c9931053e</td>\n      <td>False</td>\n      <td>yes</td>\n      <td>multi</td>\n      <td>False</td>\n      <td>1.20</td>\n      <td>2023-11-18</td>\n      <td>2023-11-18 07:16:53</td>\n      <td>False</td>\n      <td>False</td>\n      <td>0.92</td>\n      <td>0.17</td>\n      <td>1.38</td>\n      <td>1.47</td>\n      <td>-47.92</td>\n      <td>-47.92</td>\n      <td>0.54</td>\n      <td>0.15</td>\n      <td>5.42</td>\n      <td>-0.18</td>\n      <td>8.03</td>\n      <td>10.02</td>\n      <td>1.53</td>\n      <td>8.48</td>\n      <td>8.81</td>\n      <td>-43.62</td>\n      <td>-8.81</td>\n      <td>ISK</td>\n      <td>WETH</td>\n      <td>None</td>\n      <td>None</td>\n      <td>2</td>\n    </tr>\n    <tr>\n      <th>10</th>\n      <td>Base</td>\n      <td>uniswap-v3</td>\n      <td>ISK-WETH</td>\n      <td>185,290.00</td>\n      <td>0.98</td>\n      <td>0005d7bf-1f14-4c74-92cd-857c9931053e</td>\n      <td>False</td>\n      <td>yes</td>\n      <td>multi</td>\n      <td>False</td>\n      <td>1.15</td>\n      <td>2023-11-19</td>\n      <td>2023-11-19 07:02:02</td>\n      <td>False</td>\n      <td>False</td>\n      <td>0.98</td>\n      <td>0.00</td>\n      <td>1.61</td>\n      <td>2.63</td>\n      <td>83.84</td>\n      <td>83.84</td>\n      <td>0.54</td>\n      <td>0.15</td>\n      <td>inf</td>\n      <td>0.81</td>\n      <td>8.28</td>\n      <td>9.47</td>\n      <td>1.32</td>\n      <td>8.67</td>\n      <td>9.58</td>\n      <td>-31.66</td>\n      <td>-13.61</td>\n      <td>ISK</td>\n      <td>WETH</td>\n      <td>None</td>\n      <td>None</td>\n      <td>2</td>\n    </tr>\n    <tr>\n      <th>11</th>\n      <td>Base</td>\n      <td>uniswap-v3</td>\n      <td>ISK-WETH</td>\n      <td>111,779.00</td>\n      <td>0.26</td>\n      <td>0005d7bf-1f14-4c74-92cd-857c9931053e</td>\n      <td>False</td>\n      <td>yes</td>\n      <td>multi</td>\n      <td>False</td>\n      <td>1.92</td>\n      <td>2023-11-27</td>\n      <td>2023-11-27 07:18:31</td>\n      <td>False</td>\n      <td>False</td>\n      <td>0.88</td>\n      <td>0.27</td>\n      <td>2.11</td>\n      <td>3.70</td>\n      <td>-73.63</td>\n      <td>-73.63</td>\n      <td>0.45</td>\n      <td>0.18</td>\n      <td>3.22</td>\n      <td>-39.67</td>\n      <td>8.08</td>\n      <td>8.99</td>\n      <td>1.09</td>\n      <td>9.11</td>\n      <td>11.15</td>\n      <td>-29.18</td>\n      <td>-27.53</td>\n      <td>ISK</td>\n      <td>WETH</td>\n      <td>None</td>\n      <td>None</td>\n      <td>2</td>\n    </tr>\n    <tr>\n      <th>...</th>\n      <td>...</td>\n      <td>...</td>\n      <td>...</td>\n      <td>...</td>\n      <td>...</td>\n      <td>...</td>\n      <td>...</td>\n      <td>...</td>\n      <td>...</td>\n      <td>...</td>\n      <td>...</td>\n      <td>...</td>\n      <td>...</td>\n      <td>...</td>\n      <td>...</td>\n      <td>...</td>\n      <td>...</td>\n      <td>...</td>\n      <td>...</td>\n      <td>...</td>\n      <td>...</td>\n      <td>...</td>\n      <td>...</td>\n      <td>...</td>\n      <td>...</td>\n      <td>...</td>\n      <td>...</td>\n      <td>...</td>\n      <td>...</td>\n      <td>...</td>\n      <td>...</td>\n      <td>...</td>\n      <td>...</td>\n      <td>...</td>\n      <td>...</td>\n      <td>...</td>\n      <td>...</td>\n    </tr>\n    <tr>\n      <th>293453</th>\n      <td>Ethereum</td>\n      <td>uniswap-v2</td>\n      <td>HT-WETH</td>\n      <td>173,392.00</td>\n      <td>0.08</td>\n      <td>fff0af84-1d67-4d88-b2ec-cbba9d5c03ca</td>\n      <td>False</td>\n      <td>yes</td>\n      <td>multi</td>\n      <td>False</td>\n      <td>6.92</td>\n      <td>2023-11-30</td>\n      <td>2023-11-30 07:09:43</td>\n      <td>False</td>\n      <td>False</td>\n      <td>3.40</td>\n      <td>2.80</td>\n      <td>21.82</td>\n      <td>1.01</td>\n      <td>-98.66</td>\n      <td>-98.66</td>\n      <td>0.53</td>\n      <td>0.34</td>\n      <td>1.21</td>\n      <td>-2.78</td>\n      <td>18.01</td>\n      <td>20.99</td>\n      <td>2.15</td>\n      <td>23.46</td>\n      <td>37.66</td>\n      <td>5.41</td>\n      <td>-52.17</td>\n      <td>HT</td>\n      <td>WETH</td>\n      <td>None</td>\n      <td>None</td>\n      <td>2</td>\n    </tr>\n    <tr>\n      <th>293463</th>\n      <td>BSC</td>\n      <td>uniswap-v3</td>\n      <td>USDT-NCX</td>\n      <td>171,541.00</td>\n      <td>1.82</td>\n      <td>fff671da-4520-4a5f-bb4e-3dab41a8d1a0</td>\n      <td>False</td>\n      <td>yes</td>\n      <td>multi</td>\n      <td>False</td>\n      <td>0.97</td>\n      <td>2023-11-27</td>\n      <td>2023-11-27 07:18:31</td>\n      <td>False</td>\n      <td>False</td>\n      <td>1.82</td>\n      <td>NaN</td>\n      <td>3.09</td>\n      <td>3.09</td>\n      <td>NaN</td>\n      <td>NaN</td>\n      <td>0.53</td>\n      <td>0.25</td>\n      <td>NaN</td>\n      <td>NaN</td>\n      <td>13.22</td>\n      <td>13.22</td>\n      <td>NaN</td>\n      <td>17.83</td>\n      <td>17.83</td>\n      <td>NaN</td>\n      <td>-25.85</td>\n      <td>USDT</td>\n      <td>NCX</td>\n      <td>None</td>\n      <td>None</td>\n      <td>2</td>\n    </tr>\n    <tr>\n      <th>293464</th>\n      <td>BSC</td>\n      <td>uniswap-v3</td>\n      <td>USDT-NCX</td>\n      <td>235,742.00</td>\n      <td>3.09</td>\n      <td>fff671da-4520-4a5f-bb4e-3dab41a8d1a0</td>\n      <td>False</td>\n      <td>yes</td>\n      <td>multi</td>\n      <td>False</td>\n      <td>1.11</td>\n      <td>2023-11-28</td>\n      <td>2023-11-28 07:09:56</td>\n      <td>False</td>\n      <td>False</td>\n      <td>2.45</td>\n      <td>0.90</td>\n      <td>3.09</td>\n      <td>NaN</td>\n      <td>NaN</td>\n      <td>NaN</td>\n      <td>0.59</td>\n      <td>0.30</td>\n      <td>2.73</td>\n      <td>NaN</td>\n      <td>17.61</td>\n      <td>15.42</td>\n      <td>3.10</td>\n      <td>17.83</td>\n      <td>NaN</td>\n      <td>NaN</td>\n      <td>NaN</td>\n      <td>USDT</td>\n      <td>NCX</td>\n      <td>None</td>\n      <td>None</td>\n      <td>2</td>\n    </tr>\n    <tr>\n      <th>293465</th>\n      <td>BSC</td>\n      <td>uniswap-v3</td>\n      <td>USDT-NCX</td>\n      <td>235,742.00</td>\n      <td>3.09</td>\n      <td>fff671da-4520-4a5f-bb4e-3dab41a8d1a0</td>\n      <td>False</td>\n      <td>yes</td>\n      <td>multi</td>\n      <td>False</td>\n      <td>1.11</td>\n      <td>2023-11-29</td>\n      <td>2023-11-29 07:08:22</td>\n      <td>False</td>\n      <td>False</td>\n      <td>2.66</td>\n      <td>0.73</td>\n      <td>3.09</td>\n      <td>NaN</td>\n      <td>NaN</td>\n      <td>NaN</td>\n      <td>0.59</td>\n      <td>0.30</td>\n      <td>3.63</td>\n      <td>NaN</td>\n      <td>17.82</td>\n      <td>16.22</td>\n      <td>2.60</td>\n      <td>17.83</td>\n      <td>NaN</td>\n      <td>NaN</td>\n      <td>NaN</td>\n      <td>USDT</td>\n      <td>NCX</td>\n      <td>None</td>\n      <td>None</td>\n      <td>2</td>\n    </tr>\n    <tr>\n      <th>293466</th>\n      <td>BSC</td>\n      <td>uniswap-v3</td>\n      <td>USDT-NCX</td>\n      <td>235,742.00</td>\n      <td>3.09</td>\n      <td>fff671da-4520-4a5f-bb4e-3dab41a8d1a0</td>\n      <td>False</td>\n      <td>yes</td>\n      <td>multi</td>\n      <td>False</td>\n      <td>1.11</td>\n      <td>2023-11-30</td>\n      <td>2023-11-30 07:09:43</td>\n      <td>False</td>\n      <td>False</td>\n      <td>2.77</td>\n      <td>0.64</td>\n      <td>3.09</td>\n      <td>NaN</td>\n      <td>NaN</td>\n      <td>NaN</td>\n      <td>0.59</td>\n      <td>0.30</td>\n      <td>4.36</td>\n      <td>NaN</td>\n      <td>17.99</td>\n      <td>16.66</td>\n      <td>2.30</td>\n      <td>17.83</td>\n      <td>NaN</td>\n      <td>NaN</td>\n      <td>NaN</td>\n      <td>USDT</td>\n      <td>NCX</td>\n      <td>None</td>\n      <td>None</td>\n      <td>2</td>\n    </tr>\n  </tbody>\n</table>\n<p>141230 rows × 37 columns</p>\n</div>"
     },
     "execution_count": 36,
     "metadata": {},
     "output_type": "execute_result"
    }
   ],
   "source": [
    "data"
   ],
   "metadata": {
    "collapsed": false,
    "ExecuteTime": {
     "end_time": "2024-03-01T10:12:44.723923Z",
     "start_time": "2024-03-01T10:12:44.712455Z"
    }
   },
   "execution_count": 36
  },
  {
   "cell_type": "code",
   "execution_count": 37,
   "outputs": [],
   "source": [
    "# save the data to a csv file\n",
    "filepath= '/Users/karolk/Python_Work/ML_Price/Datasets/DeFi_Quant_Data.csv'\n",
    "data.to_csv(filepath, index=False)"
   ],
   "metadata": {
    "collapsed": false,
    "ExecuteTime": {
     "end_time": "2024-03-01T10:12:47.126036Z",
     "start_time": "2024-03-01T10:12:44.724675Z"
    }
   }
  }
 ],
 "metadata": {
  "kernelspec": {
   "display_name": "Python 3",
   "language": "python",
   "name": "python3"
  },
  "language_info": {
   "codemirror_mode": {
    "name": "ipython",
    "version": 2
   },
   "file_extension": ".py",
   "mimetype": "text/x-python",
   "name": "python",
   "nbconvert_exporter": "python",
   "pygments_lexer": "ipython2",
   "version": "2.7.6"
  }
 },
 "nbformat": 4,
 "nbformat_minor": 0
}
