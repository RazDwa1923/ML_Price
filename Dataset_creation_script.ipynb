{
 "cells": [
  {
   "cell_type": "markdown",
   "source": [
    "## Creating Dataset for Machine Learning with SD Score\n",
    "\n",
    "The below script creates a dataset for machine learning with the following features:\n",
    "\n",
    "- TVL: Total Value Locked in USD\n",
    "- APY: Annual Percentage Yield\n",
    "- APY Mean 7D: The average APY over the last 7 days\n",
    "- APY Std 7D: The standard deviation of the APY over the last 7 days\n",
    "- TVL Percentile: The percentile of TVL at each date\n",
    "- APY 7D Percentile: The percentile of the 7 day APY at each date\n",
    "- APY 30D Percentile: The percentile of the 30 day APY at each date\n",
    "- APY 7D Std Ratio: The average APY for 7 days divided by the standard deviation of the APY for 7 days\n",
    "- TVL Change 7D: The change in TVL over the last 7 days\n",
    "- TVL Change 1D: The change in TVL over the last 1 day\n",
    "- SD Score: The product of '7 day APY percentile' and 'tvl percentile' multiplied by 100\n",
    "- SD Score 7D Avg: The rolling mean of the past 7 days SD score\n",
    "- SD Score 7D Std: The standard deviation of the SD_Score_7D over the last 7 days\n",
    "\n",
    "The dataset is a derivtive and statiscial description of TVL and APY data for DeFi protocols. The source of the data is DeFiLlama\n",
    "\n"
   ],
   "metadata": {
    "collapsed": false
   }
  },
  {
   "cell_type": "code",
   "execution_count": 9,
   "outputs": [
    {
     "data": {
      "text/plain": "            chain     project      symbol     tvlUsd  apy  \\\nid                                                          \n2708788  Ethereum  uniswap-v2  BLOCK-WETH 212,108.00 0.00   \n2695550  Ethereum  uniswap-v2  BLOCK-WETH 212,108.00 0.00   \n2682343  Ethereum  uniswap-v2  BLOCK-WETH 212,108.00 0.00   \n2669155  Ethereum  uniswap-v2  BLOCK-WETH 212,108.00 0.00   \n2656036  Ethereum  uniswap-v2  BLOCK-WETH 212,108.00 0.00   \n\n                                         pool  stablecoin ilRisk exposure  \\\nid                                                                          \n2708788  ffff4226-4328-404f-be4c-428d01a06ccd       False    yes    multi   \n2695550  ffff4226-4328-404f-be4c-428d01a06ccd       False    yes    multi   \n2682343  ffff4226-4328-404f-be4c-428d01a06ccd       False    yes    multi   \n2669155  ffff4226-4328-404f-be4c-428d01a06ccd       False    yes    multi   \n2656036  ffff4226-4328-404f-be4c-428d01a06ccd       False    yes    multi   \n\n         outlier  apyMean30d        date           time added  new_upload  \\\nid                                                                          \n2708788    False        0.00  2023-12-16  2023-12-16 07:01:18       False   \n2695550    False        0.00  2023-12-15  2023-12-15 07:02:03       False   \n2682343    False        0.00  2023-12-14  2023-12-14 07:05:52       False   \n2669155    False        0.00  2023-12-13  2023-12-13 09:24:48       False   \n2656036    False        0.00  2023-12-12  2023-12-12 07:01:18       False   \n\n         possible_error  \nid                       \n2708788           False  \n2695550           False  \n2682343           False  \n2669155           False  \n2656036           False  ",
      "text/html": "<div>\n<style scoped>\n    .dataframe tbody tr th:only-of-type {\n        vertical-align: middle;\n    }\n\n    .dataframe tbody tr th {\n        vertical-align: top;\n    }\n\n    .dataframe thead th {\n        text-align: right;\n    }\n</style>\n<table border=\"1\" class=\"dataframe\">\n  <thead>\n    <tr style=\"text-align: right;\">\n      <th></th>\n      <th>chain</th>\n      <th>project</th>\n      <th>symbol</th>\n      <th>tvlUsd</th>\n      <th>apy</th>\n      <th>pool</th>\n      <th>stablecoin</th>\n      <th>ilRisk</th>\n      <th>exposure</th>\n      <th>outlier</th>\n      <th>apyMean30d</th>\n      <th>date</th>\n      <th>time added</th>\n      <th>new_upload</th>\n      <th>possible_error</th>\n    </tr>\n    <tr>\n      <th>id</th>\n      <th></th>\n      <th></th>\n      <th></th>\n      <th></th>\n      <th></th>\n      <th></th>\n      <th></th>\n      <th></th>\n      <th></th>\n      <th></th>\n      <th></th>\n      <th></th>\n      <th></th>\n      <th></th>\n      <th></th>\n    </tr>\n  </thead>\n  <tbody>\n    <tr>\n      <th>2708788</th>\n      <td>Ethereum</td>\n      <td>uniswap-v2</td>\n      <td>BLOCK-WETH</td>\n      <td>212,108.00</td>\n      <td>0.00</td>\n      <td>ffff4226-4328-404f-be4c-428d01a06ccd</td>\n      <td>False</td>\n      <td>yes</td>\n      <td>multi</td>\n      <td>False</td>\n      <td>0.00</td>\n      <td>2023-12-16</td>\n      <td>2023-12-16 07:01:18</td>\n      <td>False</td>\n      <td>False</td>\n    </tr>\n    <tr>\n      <th>2695550</th>\n      <td>Ethereum</td>\n      <td>uniswap-v2</td>\n      <td>BLOCK-WETH</td>\n      <td>212,108.00</td>\n      <td>0.00</td>\n      <td>ffff4226-4328-404f-be4c-428d01a06ccd</td>\n      <td>False</td>\n      <td>yes</td>\n      <td>multi</td>\n      <td>False</td>\n      <td>0.00</td>\n      <td>2023-12-15</td>\n      <td>2023-12-15 07:02:03</td>\n      <td>False</td>\n      <td>False</td>\n    </tr>\n    <tr>\n      <th>2682343</th>\n      <td>Ethereum</td>\n      <td>uniswap-v2</td>\n      <td>BLOCK-WETH</td>\n      <td>212,108.00</td>\n      <td>0.00</td>\n      <td>ffff4226-4328-404f-be4c-428d01a06ccd</td>\n      <td>False</td>\n      <td>yes</td>\n      <td>multi</td>\n      <td>False</td>\n      <td>0.00</td>\n      <td>2023-12-14</td>\n      <td>2023-12-14 07:05:52</td>\n      <td>False</td>\n      <td>False</td>\n    </tr>\n    <tr>\n      <th>2669155</th>\n      <td>Ethereum</td>\n      <td>uniswap-v2</td>\n      <td>BLOCK-WETH</td>\n      <td>212,108.00</td>\n      <td>0.00</td>\n      <td>ffff4226-4328-404f-be4c-428d01a06ccd</td>\n      <td>False</td>\n      <td>yes</td>\n      <td>multi</td>\n      <td>False</td>\n      <td>0.00</td>\n      <td>2023-12-13</td>\n      <td>2023-12-13 09:24:48</td>\n      <td>False</td>\n      <td>False</td>\n    </tr>\n    <tr>\n      <th>2656036</th>\n      <td>Ethereum</td>\n      <td>uniswap-v2</td>\n      <td>BLOCK-WETH</td>\n      <td>212,108.00</td>\n      <td>0.00</td>\n      <td>ffff4226-4328-404f-be4c-428d01a06ccd</td>\n      <td>False</td>\n      <td>yes</td>\n      <td>multi</td>\n      <td>False</td>\n      <td>0.00</td>\n      <td>2023-12-12</td>\n      <td>2023-12-12 07:01:18</td>\n      <td>False</td>\n      <td>False</td>\n    </tr>\n  </tbody>\n</table>\n</div>"
     },
     "metadata": {},
     "output_type": "display_data"
    }
   ],
   "source": [
    "# Import libraries and dependencies\n",
    "import pandas as pd\n",
    "\n",
    "data = pd.read_csv(r'/Users/karolk/Python_Work/Data_Sets/Global_Data/DeFi_Global_DB.csv', index_col=0)\n",
    "pd.set_option(\"display.max.columns\", None)\n",
    "pd.set_option(\"display.precision\", 4)\n",
    "pd.options.display.float_format = '{:,.2f}'.format\n",
    "\n",
    "display(data.head())\n"
   ],
   "metadata": {
    "collapsed": false,
    "ExecuteTime": {
     "end_time": "2024-02-14T10:21:39.606307Z",
     "start_time": "2024-02-14T10:21:34.392336Z"
    }
   }
  },
  {
   "cell_type": "code",
   "execution_count": 10,
   "outputs": [],
   "source": [
    "#set date and time added as datetime objects\n",
    "data['date'] = pd.to_datetime(data['date'])\n",
    "data['time added'] = pd.to_datetime(data['time added'])\n",
    "\n",
    "#drop all pools that have a TVL of 0 or a APY of 0\n",
    "data = data[(data['tvlUsd'] > 0) & (data['apy'] > 0)]\n",
    "\n",
    "# use only the past 35 days of data for each pool. Defined as 35 days from analysis date below\n",
    "analysis_date = '2023-12-15' # change the analysis date here\n",
    "data['date'] = pd.to_datetime(data['date'])\n",
    "data = data[data['date'] >= pd.to_datetime(analysis_date) - pd.DateOffset(days=35)]\n",
    "\n",
    "# select only stablecoin is true\n",
    "data = data[data['stablecoin'] == False]\n",
    "\n",
    "#sort the data table by pool and by date\n",
    "data = data.sort_values(['pool', 'date'], ascending=[True, True]).reset_index(drop=True)\n",
    "\n",
    "#create a new column which would the average APY over the last 7 days using the 'apy' column\n",
    "data['apyMean7d'] = data.groupby('pool')['apy'].transform(lambda x: x.rolling(7, 1).mean())\n",
    "\n",
    "#create a new column for the standard deviation of the APY over the last 7 days\n",
    "data['apyStd7d'] = data.groupby('pool')['apy'].transform(lambda x: x.rolling(7, 1).std())\n",
    "\n",
    "#create a column which has the percentile for TVL for the TVL at each date\n",
    "data['tvlPercentile'] = data.groupby('date')['tvlUsd'].rank(pct=True)\n",
    "\n",
    "#create a column which has the percentile for 7 day APY and 30 day APY\n",
    "data['apy7DPercentile'] = data.groupby('date')['apyMean7d'].rank(pct=True)\n",
    "data['apy30DPercentile'] = data.groupby('date')['apyMean30d'].rank(pct=True)\n",
    "\n",
    "#creating 2 new columns which is the average APY for 7 days divided by the standard deviation of the APY for 7 days\n",
    "data['apy7DStdRatio'] = data['apyMean7d'] / data['apyStd7d']\n",
    "\n",
    "#calculate a new column for the change in TVL over the last 7 days\n",
    "data['tvlChange7d'] = data.groupby(['pool'])['tvlUsd'].pct_change(periods=7) * 100\n",
    "\n",
    "data['tvlChange1d'] = data.groupby(['pool'])['tvlUsd'].pct_change(periods=1) * 100\n",
    "\n",
    "#creating column with 'SD_Score' which is the product of '7 day APY percentile' and 'tvl percentile' multiplied by 100\n",
    "data['SD_Score'] = data['apy7DPercentile'] * data['tvlPercentile'] * 100\n",
    "\n",
    "#creating a column 'SD_Score_7D' which is the rolling mean of the past 7 days SD score\n",
    "data['SD_Score_7D_avg'] = data.groupby('pool')['SD_Score'].transform(lambda x: x.rolling(7, 1).mean())\n",
    "\n",
    "#create a column 'SD_Score_7D_std' which is the standard deviation of the SD_Score_7D over the last 7 days\n",
    "data['SD_Score_7D_std'] = data.groupby('pool')['SD_Score'].transform(lambda x: x.rolling(7, 1).std())"
   ],
   "metadata": {
    "collapsed": false,
    "ExecuteTime": {
     "end_time": "2024-02-14T10:21:54.287474Z",
     "start_time": "2024-02-14T10:21:39.711401Z"
    }
   }
  },
  {
   "cell_type": "code",
   "execution_count": 11,
   "outputs": [],
   "source": [
    "# save the data to a csv file\n",
    "filepath= '/Users/karolk/Python_Work/ML_Price/Datasets/DeFi_Quant_Data_n_stables.csv'\n",
    "data.to_csv(filepath, index=False)\n",
    "\n"
   ],
   "metadata": {
    "collapsed": false,
    "ExecuteTime": {
     "end_time": "2024-02-14T10:22:08.844744Z",
     "start_time": "2024-02-14T10:21:54.287086Z"
    }
   }
  }
 ],
 "metadata": {
  "kernelspec": {
   "display_name": "Python 3",
   "language": "python",
   "name": "python3"
  },
  "language_info": {
   "codemirror_mode": {
    "name": "ipython",
    "version": 2
   },
   "file_extension": ".py",
   "mimetype": "text/x-python",
   "name": "python",
   "nbconvert_exporter": "python",
   "pygments_lexer": "ipython2",
   "version": "2.7.6"
  }
 },
 "nbformat": 4,
 "nbformat_minor": 0
}
