{
 "cells": [
  {
   "cell_type": "markdown",
   "source": [
    "# CoinGecko API Script for Cryptocurrency Data\n",
    "\n",
    "This script will pull data from the CoinGecko API and get the current top 250 coins by market cap. \n",
    "\n",
    "The data will be stored in a pandas dataframe and saved to a csv file.\n",
    "\n",
    "I will update the data every day to keep the data fresh and append the new data to the csv file over time.\n",
    "\n",
    "I will use all features that are available and have a seperate column for each feature."
   ],
   "metadata": {
    "collapsed": false
   },
   "id": "71a11ca9ebd0bb01"
  },
  {
   "cell_type": "code",
   "outputs": [],
   "source": [
    "# Import libraries\n",
    "import os\n",
    "import requests\n",
    "import pandas as pd\n",
    "from datetime import date"
   ],
   "metadata": {
    "collapsed": false,
    "ExecuteTime": {
     "end_time": "2024-03-31T10:41:26.631721Z",
     "start_time": "2024-03-31T10:41:26.628190Z"
    }
   },
   "id": "52a8c9ad9333b619",
   "execution_count": 25
  },
  {
   "cell_type": "code",
   "outputs": [],
   "source": [
    "# make a back up of the csv file before running the script\n",
    "backup_path = '/Users/karolk/Python_Work/Data_Sets/Global_Data/Archive/CoinGecko_API_Data_Backup.csv'\n",
    "\n",
    "# the back up CSV should have today's date in the file name\n",
    "backup_path = backup_path.replace('Backup', str(today))\n",
    "df.to_csv(backup_path, mode='a', header=True, index=False)\n"
   ],
   "metadata": {
    "collapsed": false,
    "ExecuteTime": {
     "end_time": "2024-03-31T10:41:26.650006Z",
     "start_time": "2024-03-31T10:41:26.639853Z"
    }
   },
   "id": "ea5be357f217cb70",
   "execution_count": 26
  },
  {
   "cell_type": "code",
   "outputs": [],
   "source": [
    "# Get data from CoinGecko API\n",
    "url = \"https://api.coingecko.com/api/v3/coins/markets?vs_currency=usd&order=market_cap_desc&per_page=250&page=1&sparkline=false&price_change_percentage=24&precision=4\"\n",
    "\n",
    "API_KEY = os.getenv(\"COINGECKO_API_KEY\")\n",
    "\n",
    "headers = {\"x-cg-demo-api-key\": API_KEY}\n",
    "\n",
    "response = requests.get(url, headers=headers)\n",
    "\n",
    "data = response.json()"
   ],
   "metadata": {
    "collapsed": false,
    "ExecuteTime": {
     "end_time": "2024-03-31T10:41:26.778751Z",
     "start_time": "2024-03-31T10:41:26.651684Z"
    }
   },
   "id": "c3fe6bad0922f0b",
   "execution_count": 27
  },
  {
   "cell_type": "code",
   "outputs": [],
   "source": [
    "# Create a pandas dataframe\n",
    "\n",
    "df = pd.DataFrame(data)\n",
    "\n",
    "# adding today's date to the dataframe as a 'date' column\n",
    "today = date.today()\n",
    "\n",
    "df['date'] = today\n",
    "\n"
   ],
   "metadata": {
    "collapsed": false,
    "ExecuteTime": {
     "end_time": "2024-03-31T10:41:26.783755Z",
     "start_time": "2024-03-31T10:41:26.779718Z"
    }
   },
   "id": "6a87fd300cc79ef2",
   "execution_count": 28
  },
  {
   "cell_type": "code",
   "outputs": [],
   "source": [
    "# Save the data to a csv file\n",
    "\n",
    "path = '/Users/karolk/Python_Work/Data_Sets/Global_Data/CoinGecko_API_Data.csv'\n",
    "\n",
    "\n",
    "df.to_csv(path, mode='a', header=True, index=False)\n"
   ],
   "metadata": {
    "collapsed": false,
    "ExecuteTime": {
     "end_time": "2024-03-31T10:41:26.793434Z",
     "start_time": "2024-03-31T10:41:26.785381Z"
    }
   },
   "id": "cc58afaaa02ef941",
   "execution_count": 29
  }
 ],
 "metadata": {
  "kernelspec": {
   "display_name": "Python 3",
   "language": "python",
   "name": "python3"
  },
  "language_info": {
   "codemirror_mode": {
    "name": "ipython",
    "version": 2
   },
   "file_extension": ".py",
   "mimetype": "text/x-python",
   "name": "python",
   "nbconvert_exporter": "python",
   "pygments_lexer": "ipython2",
   "version": "2.7.6"
  }
 },
 "nbformat": 4,
 "nbformat_minor": 5
}
