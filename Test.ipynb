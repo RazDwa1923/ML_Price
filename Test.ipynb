{
 "cells": [
  {
   "cell_type": "code",
   "outputs": [],
   "source": [
    "from great_tables import GT, md, html\n",
    "from great_tables.data import gtcars\n",
    "\n",
    "gtcars_mini = gtcars[[\"mfr\", \"model\", \"year\", \"hp\", \"trq\", \"msrp\"]].tail(10)\n",
    "\n",
    "table = (\n",
    "    GT(gtcars_mini, rowname_col=\"model\", groupname_col=\"mfr\")\n",
    "    .tab_spanner(label=md(\"*Performance*\"), columns=[\"hp\", \"trq\"])\n",
    "    .tab_header(\n",
    "        title=html(\"Data listing from <strong>gtcars</strong>\"),\n",
    "        subtitle=html(\"A <span style='font-size:12px;'>small selection</span> of great cars.\"),\n",
    "    )\n",
    "    .cols_label(year=\"Year Produced\", hp=\"HP\", trq=\"Torque\", msrp=\"Price (USD)\")\n",
    "    .fmt_integer(columns=[\"year\", \"hp\", \"trq\"], use_seps=False)\n",
    "    .fmt_currency(columns=\"msrp\")\n",
    "    .tab_source_note(source_note=\"Source: the gtcars dataset within the Great Tables package.\")\n",
    ")\n",
    "\n",
    "GT.save(table, '/Users/karolk/Python_Work/ML_Price/Viz/6.png', scale=1.0)"
   ],
   "metadata": {
    "collapsed": false,
    "ExecuteTime": {
     "end_time": "2024-03-12T09:32:50.532080Z",
     "start_time": "2024-03-12T09:32:41.177512Z"
    }
   },
   "id": "initial_id",
   "execution_count": 8
  }
 ],
 "metadata": {
  "kernelspec": {
   "display_name": "Python 3",
   "language": "python",
   "name": "python3"
  },
  "language_info": {
   "codemirror_mode": {
    "name": "ipython",
    "version": 2
   },
   "file_extension": ".py",
   "mimetype": "text/x-python",
   "name": "python",
   "nbconvert_exporter": "python",
   "pygments_lexer": "ipython2",
   "version": "2.7.6"
  }
 },
 "nbformat": 4,
 "nbformat_minor": 5
}
